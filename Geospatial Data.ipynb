{
 "cells": [
  {
   "cell_type": "markdown",
   "metadata": {},
   "source": [
    "Learnings for Geospatial Data"
   ]
  },
  {
   "cell_type": "code",
   "execution_count": 58,
   "metadata": {},
   "outputs": [],
   "source": [
    "import folium\n",
    "from folium import plugins\n",
    "import pandas as pd"
   ]
  },
  {
   "cell_type": "markdown",
   "metadata": {},
   "source": [
    "# Styles of maps"
   ]
  },
  {
   "cell_type": "code",
   "execution_count": 66,
   "metadata": {},
   "outputs": [
    {
     "data": {
      "text/html": [
       "<div style=\"width:100%;\"><div style=\"position:relative;width:100%;height:0;padding-bottom:60%;\"><iframe src=\"data:text/html;charset=utf-8;base64,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\" style=\"position:absolute;width:100%;height:100%;left:0;top:0;border:none !important;\" allowfullscreen webkitallowfullscreen mozallowfullscreen></iframe></div></div>"
      ],
      "text/plain": [
       "<folium.folium.Map at 0x7fe909637110>"
      ]
     },
     "execution_count": 66,
     "metadata": {},
     "output_type": "execute_result"
    }
   ],
   "source": [
    "# define the world map\n",
    "latitude = 51\n",
    "longitude = 10\n",
    "world_map = folium.Map(location=[latitude, longitude], zoom_start=3)\n",
    "world_map"
   ]
  },
  {
   "cell_type": "code",
   "execution_count": 9,
   "metadata": {},
   "outputs": [
    {
     "data": {
      "text/html": [
       "<div style=\"width:100%;\"><div style=\"position:relative;width:100%;height:0;padding-bottom:60%;\"><iframe src=\"data:text/html;charset=utf-8;base64,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\" style=\"position:absolute;width:100%;height:100%;left:0;top:0;border:none !important;\" allowfullscreen webkitallowfullscreen mozallowfullscreen></iframe></div></div>"
      ],
      "text/plain": [
       "<folium.folium.Map at 0x7fe90b1821d0>"
      ]
     },
     "execution_count": 9,
     "metadata": {},
     "output_type": "execute_result"
    }
   ],
   "source": [
    "world_map_stamen_toner = folium.Map(location=[latitude, longitude], zoom_start=3, tiles='Stamen Toner')\n",
    "world_map_stamen_toner"
   ]
  },
  {
   "cell_type": "code",
   "execution_count": 10,
   "metadata": {},
   "outputs": [
    {
     "data": {
      "text/html": [
       "<div style=\"width:100%;\"><div style=\"position:relative;width:100%;height:0;padding-bottom:60%;\"><iframe src=\"data:text/html;charset=utf-8;base64,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\" style=\"position:absolute;width:100%;height:100%;left:0;top:0;border:none !important;\" allowfullscreen webkitallowfullscreen mozallowfullscreen></iframe></div></div>"
      ],
      "text/plain": [
       "<folium.folium.Map at 0x7fe90b190650>"
      ]
     },
     "execution_count": 10,
     "metadata": {},
     "output_type": "execute_result"
    }
   ],
   "source": [
    "world_map_stamen_terrain = folium.Map(location=[latitude, longitude], zoom_start=3, tiles='Stamen Terrain')\n",
    "world_map_stamen_terrain"
   ]
  },
  {
   "cell_type": "markdown",
   "metadata": {
    "toc-hr-collapsed": true
   },
   "source": [
    "# Add markers to map"
   ]
  },
  {
   "cell_type": "code",
   "execution_count": 47,
   "metadata": {},
   "outputs": [
    {
     "data": {
      "text/html": [
       "<div>\n",
       "<style scoped>\n",
       "    .dataframe tbody tr th:only-of-type {\n",
       "        vertical-align: middle;\n",
       "    }\n",
       "\n",
       "    .dataframe tbody tr th {\n",
       "        vertical-align: top;\n",
       "    }\n",
       "\n",
       "    .dataframe thead th {\n",
       "        text-align: right;\n",
       "    }\n",
       "</style>\n",
       "<table border=\"1\" class=\"dataframe\">\n",
       "  <thead>\n",
       "    <tr style=\"text-align: right;\">\n",
       "      <th></th>\n",
       "      <th>Unnamed: 0</th>\n",
       "      <th>id</th>\n",
       "      <th>version</th>\n",
       "      <th>version_time</th>\n",
       "      <th>name</th>\n",
       "      <th>brand</th>\n",
       "      <th>street</th>\n",
       "      <th>house_number</th>\n",
       "      <th>post_code</th>\n",
       "      <th>place</th>\n",
       "      <th>public_holiday_identifier</th>\n",
       "      <th>lat</th>\n",
       "      <th>lng</th>\n",
       "      <th>price_in_import</th>\n",
       "      <th>price_changed</th>\n",
       "      <th>open_ts</th>\n",
       "      <th>ot_json</th>\n",
       "      <th>station_in_import</th>\n",
       "      <th>first_active</th>\n",
       "    </tr>\n",
       "  </thead>\n",
       "  <tbody>\n",
       "    <tr>\n",
       "      <th>0</th>\n",
       "      <td>0</td>\n",
       "      <td>00099999-8026-4444-8888-acdc00008026</td>\n",
       "      <td>0</td>\n",
       "      <td>2019-06-29 00:00:15.952</td>\n",
       "      <td>ch-tank</td>\n",
       "      <td>ch-tank</td>\n",
       "      <td>Freckenhorster Straße</td>\n",
       "      <td>39</td>\n",
       "      <td>48231</td>\n",
       "      <td>Warendorf</td>\n",
       "      <td>NaN</td>\n",
       "      <td>51.949173</td>\n",
       "      <td>7.987864</td>\n",
       "      <td>2019-06-30 17:10:06+02:00</td>\n",
       "      <td>2019-06-30 16:52:14+02:00</td>\n",
       "      <td>1</td>\n",
       "      <td>{}</td>\n",
       "      <td>2019-06-30 00:00:35+02:00</td>\n",
       "      <td>2014-05-27 00:00:01+02:00</td>\n",
       "    </tr>\n",
       "    <tr>\n",
       "      <th>1</th>\n",
       "      <td>1</td>\n",
       "      <td>005056ba-7cb6-1ed2-bceb-87f71ccd4d30</td>\n",
       "      <td>1896</td>\n",
       "      <td>2019-06-27 22:55:08.603</td>\n",
       "      <td>star Tankstelle</td>\n",
       "      <td>STAR</td>\n",
       "      <td>Hochdahler Straße</td>\n",
       "      <td>127</td>\n",
       "      <td>40724</td>\n",
       "      <td>Hilden</td>\n",
       "      <td>NaN</td>\n",
       "      <td>51.176260</td>\n",
       "      <td>6.938810</td>\n",
       "      <td>2019-06-30 17:10:06+02:00</td>\n",
       "      <td>2019-06-30 16:25:06+02:00</td>\n",
       "      <td>1</td>\n",
       "      <td>{}</td>\n",
       "      <td>2019-06-30 00:00:35+02:00</td>\n",
       "      <td>2014-03-18 16:45:31+01:00</td>\n",
       "    </tr>\n",
       "    <tr>\n",
       "      <th>2</th>\n",
       "      <td>2</td>\n",
       "      <td>005056ba-7cb6-1ed2-bceb-9d5672a1ed3c</td>\n",
       "      <td>1896</td>\n",
       "      <td>2019-06-27 22:55:10.694</td>\n",
       "      <td>star Tankstelle</td>\n",
       "      <td>STAR</td>\n",
       "      <td>Koelner Straße</td>\n",
       "      <td>69</td>\n",
       "      <td>45481</td>\n",
       "      <td>Muelheim</td>\n",
       "      <td>NaN</td>\n",
       "      <td>51.398030</td>\n",
       "      <td>6.875490</td>\n",
       "      <td>2019-06-30 17:10:06+02:00</td>\n",
       "      <td>2019-06-30 16:25:06+02:00</td>\n",
       "      <td>1561932000</td>\n",
       "      <td>{\"openingTimes\":[{\"applicable_days\":127,\"perio...</td>\n",
       "      <td>2019-06-30 00:00:35+02:00</td>\n",
       "      <td>2014-03-18 16:45:31+01:00</td>\n",
       "    </tr>\n",
       "    <tr>\n",
       "      <th>3</th>\n",
       "      <td>3</td>\n",
       "      <td>08ef94ae-2071-4b49-bcff-42f3cbb2e7b2</td>\n",
       "      <td>7</td>\n",
       "      <td>2016-02-02 16:28:09.000</td>\n",
       "      <td>Aral Tankstelle</td>\n",
       "      <td>ARAL</td>\n",
       "      <td>Wittener Straße</td>\n",
       "      <td>66</td>\n",
       "      <td>44789</td>\n",
       "      <td>Bochum</td>\n",
       "      <td>NaN</td>\n",
       "      <td>51.477486</td>\n",
       "      <td>7.227767</td>\n",
       "      <td>2019-06-30 17:10:06+02:00</td>\n",
       "      <td>2019-06-30 17:05:06+02:00</td>\n",
       "      <td>1</td>\n",
       "      <td>{}</td>\n",
       "      <td>2019-06-30 00:00:35+02:00</td>\n",
       "      <td>2014-03-18 16:45:31+01:00</td>\n",
       "    </tr>\n",
       "    <tr>\n",
       "      <th>4</th>\n",
       "      <td>4</td>\n",
       "      <td>0ada6bf2-7ca4-4874-87c1-1f6321aff715</td>\n",
       "      <td>493</td>\n",
       "      <td>2019-06-26 19:55:02.000</td>\n",
       "      <td>Freie SB Tankstelle</td>\n",
       "      <td>Freie Tankstelle</td>\n",
       "      <td>Eschstraße</td>\n",
       "      <td>95</td>\n",
       "      <td>48703</td>\n",
       "      <td>Stadtlohn</td>\n",
       "      <td>NaN</td>\n",
       "      <td>51.985700</td>\n",
       "      <td>6.908930</td>\n",
       "      <td>2019-06-30 17:10:06+02:00</td>\n",
       "      <td>2019-06-28 12:01:06+02:00</td>\n",
       "      <td>1</td>\n",
       "      <td>{}</td>\n",
       "      <td>2019-06-27 00:00:38+02:00</td>\n",
       "      <td>2018-02-20 23:30:06+01:00</td>\n",
       "    </tr>\n",
       "  </tbody>\n",
       "</table>\n",
       "</div>"
      ],
      "text/plain": [
       "   Unnamed: 0                                    id  version  \\\n",
       "0           0  00099999-8026-4444-8888-acdc00008026        0   \n",
       "1           1  005056ba-7cb6-1ed2-bceb-87f71ccd4d30     1896   \n",
       "2           2  005056ba-7cb6-1ed2-bceb-9d5672a1ed3c     1896   \n",
       "3           3  08ef94ae-2071-4b49-bcff-42f3cbb2e7b2        7   \n",
       "4           4  0ada6bf2-7ca4-4874-87c1-1f6321aff715      493   \n",
       "\n",
       "              version_time                 name             brand  \\\n",
       "0  2019-06-29 00:00:15.952              ch-tank           ch-tank   \n",
       "1  2019-06-27 22:55:08.603      star Tankstelle              STAR   \n",
       "2  2019-06-27 22:55:10.694      star Tankstelle              STAR   \n",
       "3  2016-02-02 16:28:09.000      Aral Tankstelle              ARAL   \n",
       "4  2019-06-26 19:55:02.000  Freie SB Tankstelle  Freie Tankstelle   \n",
       "\n",
       "                  street house_number  post_code      place  \\\n",
       "0  Freckenhorster Straße           39      48231  Warendorf   \n",
       "1      Hochdahler Straße          127      40724     Hilden   \n",
       "2         Koelner Straße           69      45481   Muelheim   \n",
       "3        Wittener Straße           66      44789     Bochum   \n",
       "4             Eschstraße           95      48703  Stadtlohn   \n",
       "\n",
       "   public_holiday_identifier        lat       lng            price_in_import  \\\n",
       "0                        NaN  51.949173  7.987864  2019-06-30 17:10:06+02:00   \n",
       "1                        NaN  51.176260  6.938810  2019-06-30 17:10:06+02:00   \n",
       "2                        NaN  51.398030  6.875490  2019-06-30 17:10:06+02:00   \n",
       "3                        NaN  51.477486  7.227767  2019-06-30 17:10:06+02:00   \n",
       "4                        NaN  51.985700  6.908930  2019-06-30 17:10:06+02:00   \n",
       "\n",
       "               price_changed     open_ts  \\\n",
       "0  2019-06-30 16:52:14+02:00           1   \n",
       "1  2019-06-30 16:25:06+02:00           1   \n",
       "2  2019-06-30 16:25:06+02:00  1561932000   \n",
       "3  2019-06-30 17:05:06+02:00           1   \n",
       "4  2019-06-28 12:01:06+02:00           1   \n",
       "\n",
       "                                             ot_json  \\\n",
       "0                                                 {}   \n",
       "1                                                 {}   \n",
       "2  {\"openingTimes\":[{\"applicable_days\":127,\"perio...   \n",
       "3                                                 {}   \n",
       "4                                                 {}   \n",
       "\n",
       "           station_in_import               first_active  \n",
       "0  2019-06-30 00:00:35+02:00  2014-05-27 00:00:01+02:00  \n",
       "1  2019-06-30 00:00:35+02:00  2014-03-18 16:45:31+01:00  \n",
       "2  2019-06-30 00:00:35+02:00  2014-03-18 16:45:31+01:00  \n",
       "3  2019-06-30 00:00:35+02:00  2014-03-18 16:45:31+01:00  \n",
       "4  2019-06-27 00:00:38+02:00  2018-02-20 23:30:06+01:00  "
      ]
     },
     "execution_count": 47,
     "metadata": {},
     "output_type": "execute_result"
    }
   ],
   "source": [
    "df_gas_stations = pd.read_csv('gas_station_examples.csv')\n",
    "df_gas_stations.head()"
   ]
  },
  {
   "cell_type": "code",
   "execution_count": 50,
   "metadata": {},
   "outputs": [],
   "source": [
    "# extract location information and brand of gas stations as labels\n",
    "gs_latitudes = list(df_gas_stations.lat)\n",
    "gs_longitudes = list(df_gas_stations.lng)\n",
    "gs_labels = list(df_gas_stations.brand)"
   ]
  },
  {
   "cell_type": "markdown",
   "metadata": {},
   "source": [
    "## Only marker - no popup"
   ]
  },
  {
   "cell_type": "code",
   "execution_count": 64,
   "metadata": {},
   "outputs": [
    {
     "data": {
      "text/html": [
       "<div style=\"width:100%;\"><div style=\"position:relative;width:100%;height:0;padding-bottom:60%;\"><iframe src=\"data:text/html;charset=utf-8;base64,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\" style=\"position:absolute;width:100%;height:100%;left:0;top:0;border:none !important;\" allowfullscreen webkitallowfullscreen mozallowfullscreen></iframe></div></div>"
      ],
      "text/plain": [
       "<folium.folium.Map at 0x7fe909636550>"
      ]
     },
     "execution_count": 64,
     "metadata": {},
     "output_type": "execute_result"
    }
   ],
   "source": [
    "#define the NRW map\n",
    "latitude = 51.8\n",
    "longitude = 7\n",
    "nrw_map = folium.Map(location=[latitude, longitude], zoom_start=8)\n",
    "\n",
    "# instantiate a feature group for the gas stations in the dataframe\n",
    "gas_stations = folium.map.FeatureGroup()\n",
    "\n",
    "# loop through the 100 crimes and add each to the incidents feature group\n",
    "for lat, lng, in zip(df_gas_stations.lat, df_gas_stations.lng):\n",
    "    gas_stations.add_child(\n",
    "        folium.features.RegularPolygonMarker(\n",
    "            [lat, lng],\n",
    "            radius=5, # define how big you want the circle markers to be\n",
    "            color='red',\n",
    "            fill=True,\n",
    "            fill_color='blue',\n",
    "            fill_opacity=0.6\n",
    "        )\n",
    "    )\n",
    "    \n",
    "# add gas_stations to map\n",
    "nrw_map.add_child(gas_stations)"
   ]
  },
  {
   "cell_type": "markdown",
   "metadata": {},
   "source": [
    "## Marker with popups"
   ]
  },
  {
   "cell_type": "code",
   "execution_count": 61,
   "metadata": {},
   "outputs": [
    {
     "data": {
      "text/html": [
       "<div style=\"width:100%;\"><div style=\"position:relative;width:100%;height:0;padding-bottom:60%;\"><iframe src=\"data:text/html;charset=utf-8;base64,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\" style=\"position:absolute;width:100%;height:100%;left:0;top:0;border:none !important;\" allowfullscreen webkitallowfullscreen mozallowfullscreen></iframe></div></div>"
      ],
      "text/plain": [
       "<folium.folium.Map at 0x7fe90967f8d0>"
      ]
     },
     "execution_count": 61,
     "metadata": {},
     "output_type": "execute_result"
    }
   ],
   "source": [
    "#define the NRW map\n",
    "latitude = 51.8\n",
    "longitude = 7\n",
    "nrw_map = folium.Map(location=[latitude, longitude], zoom_start=8)\n",
    "\n",
    "# instantiate a feature group for the gas stations in the dataframe\n",
    "gas_stations = folium.map.FeatureGroup()\n",
    "\n",
    "for lat, lng, label in zip(gs_latitudes, gs_longitudes, gs_labels):\n",
    "     gas_stations.add_child(\n",
    "        folium.features.RegularPolygonMarker(\n",
    "            [lat, lng],\n",
    "            radius=5, # define how big you want the circle markers to be\n",
    "            color='red',\n",
    "            fill=True,\n",
    "            fill_color='blue',\n",
    "            fill_opacity=0.6,\n",
    "            popup=label\n",
    "        )\n",
    "    ).add_to(nrw_map)\n",
    "    \n",
    "nrw_map"
   ]
  },
  {
   "cell_type": "markdown",
   "metadata": {},
   "source": [
    "## Marker with pins and popups"
   ]
  },
  {
   "cell_type": "code",
   "execution_count": 60,
   "metadata": {},
   "outputs": [
    {
     "data": {
      "text/html": [
       "<div style=\"width:100%;\"><div style=\"position:relative;width:100%;height:0;padding-bottom:60%;\"><iframe src=\"data:text/html;charset=utf-8;base64,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\" style=\"position:absolute;width:100%;height:100%;left:0;top:0;border:none !important;\" allowfullscreen webkitallowfullscreen mozallowfullscreen></iframe></div></div>"
      ],
      "text/plain": [
       "<folium.folium.Map at 0x7fe9096bbf90>"
      ]
     },
     "execution_count": 60,
     "metadata": {},
     "output_type": "execute_result"
    }
   ],
   "source": [
    "#define the NRW map\n",
    "latitude = 51.8\n",
    "longitude = 7\n",
    "nrw_map = folium.Map(location=[latitude, longitude], zoom_start=8)\n",
    "    \n",
    "for lat, lng, label in zip(gs_latitudes, gs_longitudes, gs_labels):\n",
    "    folium.Marker([lat, lng], popup=label).add_to(nrw_map) \n",
    "    \n",
    "nrw_map"
   ]
  },
  {
   "cell_type": "markdown",
   "metadata": {},
   "source": [
    "## Clusters of marker pins with popups"
   ]
  },
  {
   "cell_type": "code",
   "execution_count": 65,
   "metadata": {},
   "outputs": [
    {
     "data": {
      "text/html": [
       "<div style=\"width:100%;\"><div style=\"position:relative;width:100%;height:0;padding-bottom:60%;\"><iframe src=\"data:text/html;charset=utf-8;base64,PCFET0NUWVBFIGh0bWw+CjxoZWFkPiAgICAKICAgIDxtZXRhIGh0dHAtZXF1aXY9ImNvbnRlbnQtdHlwZSIgY29udGVudD0idGV4dC9odG1sOyBjaGFyc2V0PVVURi04IiAvPgogICAgCiAgICAgICAgPHNjcmlwdD4KICAgICAgICAgICAgTF9OT19UT1VDSCA9IGZhbHNlOwogICAgICAgICAgICBMX0RJU0FCTEVfM0QgPSBmYWxzZTsKICAgICAgICA8L3NjcmlwdD4KICAgIAogICAgPHNjcmlwdCBzcmM9Imh0dHBzOi8vY2RuLmpzZGVsaXZyLm5ldC9ucG0vbGVhZmxldEAxLjUuMS9kaXN0L2xlYWZsZXQuanMiPjwvc2NyaXB0PgogICAgPHNjcmlwdCBzcmM9Imh0dHBzOi8vY29kZS5qcXVlcnkuY29tL2pxdWVyeS0xLjEyLjQubWluLmpzIj48L3NjcmlwdD4KICAgIDxzY3JpcHQgc3JjPSJodHRwczovL21heGNkbi5ib290c3RyYXBjZG4uY29tL2Jvb3RzdHJhcC8zLjIuMC9qcy9ib290c3RyYXAubWluLmpzIj48L3NjcmlwdD4KICAgIDxzY3JpcHQgc3JjPSJodHRwczovL2NkbmpzLmNsb3VkZmxhcmUuY29tL2FqYXgvbGlicy9MZWFmbGV0LmF3ZXNvbWUtbWFya2Vycy8yLjAuMi9sZWFmbGV0LmF3ZXNvbWUtbWFya2Vycy5qcyI+PC9zY3JpcHQ+CiAgICA8bGluayByZWw9InN0eWxlc2hlZXQiIGhyZWY9Imh0dHBzOi8vY2RuLmpzZGVsaXZyLm5ldC9ucG0vbGVhZmxldEAxLjUuMS9kaXN0L2xlYWZsZXQuY3NzIi8+CiAgICA8bGluayByZWw9InN0eWxlc2hlZXQiIGhyZWY9Imh0dHBzOi8vbWF4Y2RuLmJvb3RzdHJhcGNkbi5jb20vYm9vdHN0cmFwLzMuMi4wL2Nzcy9ib290c3RyYXAubWluLmNzcyIvPgogICAgPGxpbmsgcmVsPSJzdHlsZXNoZWV0IiBocmVmPSJodHRwczovL21heGNkbi5ib290c3RyYXBjZG4uY29tL2Jvb3RzdHJhcC8zLjIuMC9jc3MvYm9vdHN0cmFwLXRoZW1lLm1pbi5jc3MiLz4KICAgIDxsaW5rIHJlbD0ic3R5bGVzaGVldCIgaHJlZj0iaHR0cHM6Ly9tYXhjZG4uYm9vdHN0cmFwY2RuLmNvbS9mb250LWF3ZXNvbWUvNC42LjMvY3NzL2ZvbnQtYXdlc29tZS5taW4uY3NzIi8+CiAgICA8bGluayByZWw9InN0eWxlc2hlZXQiIGhyZWY9Imh0dHBzOi8vY2RuanMuY2xvdWRmbGFyZS5jb20vYWpheC9saWJzL0xlYWZsZXQuYXdlc29tZS1tYXJrZXJzLzIuMC4yL2xlYWZsZXQuYXdlc29tZS1tYXJrZXJzLmNzcyIvPgogICAgPGxpbmsgcmVsPSJzdHlsZXNoZWV0IiBocmVmPSJodHRwczovL3Jhd2Nkbi5naXRoYWNrLmNvbS9weXRob24tdmlzdWFsaXphdGlvbi9mb2xpdW0vbWFzdGVyL2ZvbGl1bS90ZW1wbGF0ZXMvbGVhZmxldC5hd2Vzb21lLnJvdGF0ZS5jc3MiLz4KICAgIDxzdHlsZT5odG1sLCBib2R5IHt3aWR0aDogMTAwJTtoZWlnaHQ6IDEwMCU7bWFyZ2luOiAwO3BhZGRpbmc6IDA7fTwvc3R5bGU+CiAgICA8c3R5bGU+I21hcCB7cG9zaXRpb246YWJzb2x1dGU7dG9wOjA7Ym90dG9tOjA7cmlnaHQ6MDtsZWZ0OjA7fTwvc3R5bGU+CiAgICAKICAgICAgICAgICAgPG1ldGEgbmFtZT0idmlld3BvcnQiIGNvbnRlbnQ9IndpZHRoPWRldmljZS13aWR0aCwKICAgICAgICAgICAgICAgIGluaXRpYWwtc2NhbGU9MS4wLCBtYXhpbXVtLXNjYWxlPTEuMCwgdXNlci1zY2FsYWJsZT1ubyIgLz4KICAgICAgICAgICAgPHN0eWxlPgogICAgICAgICAgICAgICAgI21hcF83MWU1ZmFiOGY3MTk0OTA4YTExMGU3ODRkMWM3MjE4MCB7CiAgICAgICAgICAgICAgICAgICAgcG9zaXRpb246IHJlbGF0aXZlOwogICAgICAgICAgICAgICAgICAgIHdpZHRoOiAxMDAuMCU7CiAgICAgICAgICAgICAgICAgICAgaGVpZ2h0OiAxMDAuMCU7CiAgICAgICAgICAgICAgICAgICAgbGVmdDogMC4wJTsKICAgICAgICAgICAgICAgICAgICB0b3A6IDAuMCU7CiAgICAgICAgICAgICAgICB9CiAgICAgICAgICAgIDwvc3R5bGU+CiAgICAgICAgCiAgICA8c2NyaXB0IHNyYz0iaHR0cHM6Ly9jZG5qcy5jbG91ZGZsYXJlLmNvbS9hamF4L2xpYnMvbGVhZmxldC5tYXJrZXJjbHVzdGVyLzEuMS4wL2xlYWZsZXQubWFya2VyY2x1c3Rlci5qcyI+PC9zY3JpcHQ+CiAgICA8bGluayByZWw9InN0eWxlc2hlZXQiIGhyZWY9Imh0dHBzOi8vY2RuanMuY2xvdWRmbGFyZS5jb20vYWpheC9saWJzL2xlYWZsZXQubWFya2VyY2x1c3Rlci8xLjEuMC9NYXJrZXJDbHVzdGVyLmNzcyIvPgogICAgPGxpbmsgcmVsPSJzdHlsZXNoZWV0IiBocmVmPSJodHRwczovL2NkbmpzLmNsb3VkZmxhcmUuY29tL2FqYXgvbGlicy9sZWFmbGV0Lm1hcmtlcmNsdXN0ZXIvMS4xLjAvTWFya2VyQ2x1c3Rlci5EZWZhdWx0LmNzcyIvPgo8L2hlYWQ+Cjxib2R5PiAgICAKICAgIAogICAgICAgICAgICA8ZGl2IGNsYXNzPSJmb2xpdW0tbWFwIiBpZD0ibWFwXzcxZTVmYWI4ZjcxOTQ5MDhhMTEwZTc4NGQxYzcyMTgwIiA+PC9kaXY+CiAgICAgICAgCjwvYm9keT4KPHNjcmlwdD4gICAgCiAgICAKICAgICAgICAgICAgdmFyIG1hcF83MWU1ZmFiOGY3MTk0OTA4YTExMGU3ODRkMWM3MjE4MCA9IEwubWFwKAogICAgICAgICAgICAgICAgIm1hcF83MWU1ZmFiOGY3MTk0OTA4YTExMGU3ODRkMWM3MjE4MCIsCiAgICAgICAgICAgICAgICB7CiAgICAgICAgICAgICAgICAgICAgY2VudGVyOiBbNTEuOCwgNy4wXSwKICAgICAgICAgICAgICAgICAgICBjcnM6IEwuQ1JTLkVQU0czODU3LAogICAgICAgICAgICAgICAgICAgIHpvb206IDgsCiAgICAgICAgICAgICAgICAgICAgem9vbUNvbnRyb2w6IHRydWUsCiAgICAgICAgICAgICAgICAgICAgcHJlZmVyQ2FudmFzOiBmYWxzZSwKICAgICAgICAgICAgICAgIH0KICAgICAgICAgICAgKTsKCiAgICAgICAgICAgIAoKICAgICAgICAKICAgIAogICAgICAgICAgICB2YXIgdGlsZV9sYXllcl8zZmJjYWM1Y2M5NTQ0NWQ1YTQ0NDMzYjA0Yzc0ZWIzYSA9IEwudGlsZUxheWVyKAogICAgICAgICAgICAgICAgImh0dHBzOi8ve3N9LnRpbGUub3BlbnN0cmVldG1hcC5vcmcve3p9L3t4fS97eX0ucG5nIiwKICAgICAgICAgICAgICAgIHsiYXR0cmlidXRpb24iOiAiRGF0YSBieSBcdTAwMjZjb3B5OyBcdTAwM2NhIGhyZWY9XCJodHRwOi8vb3BlbnN0cmVldG1hcC5vcmdcIlx1MDAzZU9wZW5TdHJlZXRNYXBcdTAwM2MvYVx1MDAzZSwgdW5kZXIgXHUwMDNjYSBocmVmPVwiaHR0cDovL3d3dy5vcGVuc3RyZWV0bWFwLm9yZy9jb3B5cmlnaHRcIlx1MDAzZU9EYkxcdTAwM2MvYVx1MDAzZS4iLCAiZGV0ZWN0UmV0aW5hIjogZmFsc2UsICJtYXhOYXRpdmVab29tIjogMTgsICJtYXhab29tIjogMTgsICJtaW5ab29tIjogMCwgIm5vV3JhcCI6IGZhbHNlLCAib3BhY2l0eSI6IDEsICJzdWJkb21haW5zIjogImFiYyIsICJ0bXMiOiBmYWxzZX0KICAgICAgICAgICAgKS5hZGRUbyhtYXBfNzFlNWZhYjhmNzE5NDkwOGExMTBlNzg0ZDFjNzIxODApOwogICAgICAgIAogICAgCiAgICAgICAgICAgIHZhciBtYXJrZXJfY2x1c3Rlcl8yODUzZmJmM2IwZWY0MzdhYWU4ZmZkNDY0MTllNDkyOSA9IEwubWFya2VyQ2x1c3Rlckdyb3VwKAogICAgICAgICAgICAgICAge30KICAgICAgICAgICAgKTsKICAgICAgICAgICAgbWFwXzcxZTVmYWI4ZjcxOTQ5MDhhMTEwZTc4NGQxYzcyMTgwLmFkZExheWVyKG1hcmtlcl9jbHVzdGVyXzI4NTNmYmYzYjBlZjQzN2FhZThmZmQ0NjQxOWU0OTI5KTsKICAgICAgICAKICAgIAogICAgICAgICAgICB2YXIgbWFya2VyX2I4N2Q5Zjc2ZmFhOTRiNTNiZDdiNzM3ODg0NTEyYmY3ID0gTC5tYXJrZXIoCiAgICAgICAgICAgICAgICBbNTEuOTQ5MTcyOTczNjMzMDA0LCA3Ljk4Nzg2NDAxNzQ4NjZdLAogICAgICAgICAgICAgICAge30KICAgICAgICAgICAgKS5hZGRUbyhtYXJrZXJfY2x1c3Rlcl8yODUzZmJmM2IwZWY0MzdhYWU4ZmZkNDY0MTllNDkyOSk7CiAgICAgICAgCiAgICAKICAgICAgICB2YXIgcG9wdXBfNDgzMmIxMjRmN2U4NGRlY2EzNjViZGQ3ZDk3ZDI2ZmUgPSBMLnBvcHVwKHsibWF4V2lkdGgiOiAiMTAwJSJ9KTsKCiAgICAgICAgCiAgICAgICAgICAgIHZhciBodG1sXzJiMjA0OTJlMjZhZDQzZjZiYjg4NzQ5NDNmMTU2MjA1ID0gJChgPGRpdiBpZD0iaHRtbF8yYjIwNDkyZTI2YWQ0M2Y2YmI4ODc0OTQzZjE1NjIwNSIgc3R5bGU9IndpZHRoOiAxMDAuMCU7IGhlaWdodDogMTAwLjAlOyI+Y2gtdGFuazwvZGl2PmApWzBdOwogICAgICAgICAgICBwb3B1cF80ODMyYjEyNGY3ZTg0ZGVjYTM2NWJkZDdkOTdkMjZmZS5zZXRDb250ZW50KGh0bWxfMmIyMDQ5MmUyNmFkNDNmNmJiODg3NDk0M2YxNTYyMDUpOwogICAgICAgIAoKICAgICAgICBtYXJrZXJfYjg3ZDlmNzZmYWE5NGI1M2JkN2I3Mzc4ODQ1MTJiZjcuYmluZFBvcHVwKHBvcHVwXzQ4MzJiMTI0ZjdlODRkZWNhMzY1YmRkN2Q5N2QyNmZlKQogICAgICAgIDsKCiAgICAgICAgCiAgICAKICAgIAogICAgICAgICAgICB2YXIgbWFya2VyXzA5YjBiMzE4YWNhMDQwMzFhZjZkYzI3YTJjZWY1ZjhkID0gTC5tYXJrZXIoCiAgICAgICAgICAgICAgICBbNTEuMTc2MjYsIDYuOTM4ODFdLAogICAgICAgICAgICAgICAge30KICAgICAgICAgICAgKS5hZGRUbyhtYXJrZXJfY2x1c3Rlcl8yODUzZmJmM2IwZWY0MzdhYWU4ZmZkNDY0MTllNDkyOSk7CiAgICAgICAgCiAgICAKICAgICAgICB2YXIgcG9wdXBfOTFkNTI2OGMwNDA5NDlkY2FmNGJkZjY1N2M0YzljODkgPSBMLnBvcHVwKHsibWF4V2lkdGgiOiAiMTAwJSJ9KTsKCiAgICAgICAgCiAgICAgICAgICAgIHZhciBodG1sX2ZjYzRkNjJkNTczMzRlZWY5Y2Y4YmZkYmZmMmU2NWNjID0gJChgPGRpdiBpZD0iaHRtbF9mY2M0ZDYyZDU3MzM0ZWVmOWNmOGJmZGJmZjJlNjVjYyIgc3R5bGU9IndpZHRoOiAxMDAuMCU7IGhlaWdodDogMTAwLjAlOyI+U1RBUjwvZGl2PmApWzBdOwogICAgICAgICAgICBwb3B1cF85MWQ1MjY4YzA0MDk0OWRjYWY0YmRmNjU3YzRjOWM4OS5zZXRDb250ZW50KGh0bWxfZmNjNGQ2MmQ1NzMzNGVlZjljZjhiZmRiZmYyZTY1Y2MpOwogICAgICAgIAoKICAgICAgICBtYXJrZXJfMDliMGIzMThhY2EwNDAzMWFmNmRjMjdhMmNlZjVmOGQuYmluZFBvcHVwKHBvcHVwXzkxZDUyNjhjMDQwOTQ5ZGNhZjRiZGY2NTdjNGM5Yzg5KQogICAgICAgIDsKCiAgICAgICAgCiAgICAKICAgIAogICAgICAgICAgICB2YXIgbWFya2VyXzQ4YWVhNDU4Zjc3NDRiNGViNjQwZDMwNWI2YjZiOWQ1ID0gTC5tYXJrZXIoCiAgICAgICAgICAgICAgICBbNTEuMzk4MDMsIDYuODc1NDg5OTk5OTk5OTk5XSwKICAgICAgICAgICAgICAgIHt9CiAgICAgICAgICAgICkuYWRkVG8obWFya2VyX2NsdXN0ZXJfMjg1M2ZiZjNiMGVmNDM3YWFlOGZmZDQ2NDE5ZTQ5MjkpOwogICAgICAgIAogICAgCiAgICAgICAgdmFyIHBvcHVwX2Y1NTkwMGJjNThiZDQ0MGQ5NDMzOGZjZGZhMjVhYjhiID0gTC5wb3B1cCh7Im1heFdpZHRoIjogIjEwMCUifSk7CgogICAgICAgIAogICAgICAgICAgICB2YXIgaHRtbF9hMDY1MWRlZGUxYWE0N2QxYmEyM2QxNTc4NDk0NzVjNCA9ICQoYDxkaXYgaWQ9Imh0bWxfYTA2NTFkZWRlMWFhNDdkMWJhMjNkMTU3ODQ5NDc1YzQiIHN0eWxlPSJ3aWR0aDogMTAwLjAlOyBoZWlnaHQ6IDEwMC4wJTsiPlNUQVI8L2Rpdj5gKVswXTsKICAgICAgICAgICAgcG9wdXBfZjU1OTAwYmM1OGJkNDQwZDk0MzM4ZmNkZmEyNWFiOGIuc2V0Q29udGVudChodG1sX2EwNjUxZGVkZTFhYTQ3ZDFiYTIzZDE1Nzg0OTQ3NWM0KTsKICAgICAgICAKCiAgICAgICAgbWFya2VyXzQ4YWVhNDU4Zjc3NDRiNGViNjQwZDMwNWI2YjZiOWQ1LmJpbmRQb3B1cChwb3B1cF9mNTU5MDBiYzU4YmQ0NDBkOTQzMzhmY2RmYTI1YWI4YikKICAgICAgICA7CgogICAgICAgIAogICAgCiAgICAKICAgICAgICAgICAgdmFyIG1hcmtlcl82ZDJjMDAzNDI5N2Q0ZmI3ODllMDI2MzE3YjE4NWZkOSA9IEwubWFya2VyKAogICAgICAgICAgICAgICAgWzUxLjQ3NzQ4NTcsIDcuMjI3NzY3XSwKICAgICAgICAgICAgICAgIHt9CiAgICAgICAgICAgICkuYWRkVG8obWFya2VyX2NsdXN0ZXJfMjg1M2ZiZjNiMGVmNDM3YWFlOGZmZDQ2NDE5ZTQ5MjkpOwogICAgICAgIAogICAgCiAgICAgICAgdmFyIHBvcHVwXzYxM2FiZTFkZWMxNDQ1NjRhMjc2ODRiMTNmZDFhZjBiID0gTC5wb3B1cCh7Im1heFdpZHRoIjogIjEwMCUifSk7CgogICAgICAgIAogICAgICAgICAgICB2YXIgaHRtbF82MDkwNDNiMTcyMzc0OWJhOWE2ZjQ5YTFjNTc2MjY4OCA9ICQoYDxkaXYgaWQ9Imh0bWxfNjA5MDQzYjE3MjM3NDliYTlhNmY0OWExYzU3NjI2ODgiIHN0eWxlPSJ3aWR0aDogMTAwLjAlOyBoZWlnaHQ6IDEwMC4wJTsiPkFSQUw8L2Rpdj5gKVswXTsKICAgICAgICAgICAgcG9wdXBfNjEzYWJlMWRlYzE0NDU2NGEyNzY4NGIxM2ZkMWFmMGIuc2V0Q29udGVudChodG1sXzYwOTA0M2IxNzIzNzQ5YmE5YTZmNDlhMWM1NzYyNjg4KTsKICAgICAgICAKCiAgICAgICAgbWFya2VyXzZkMmMwMDM0Mjk3ZDRmYjc4OWUwMjYzMTdiMTg1ZmQ5LmJpbmRQb3B1cChwb3B1cF82MTNhYmUxZGVjMTQ0NTY0YTI3Njg0YjEzZmQxYWYwYikKICAgICAgICA7CgogICAgICAgIAogICAgCiAgICAKICAgICAgICAgICAgdmFyIG1hcmtlcl9iYmU3MGM4NTgxYjk0MWVlYTU4OTdlYzdmZGM5YjkzYiA9IEwubWFya2VyKAogICAgICAgICAgICAgICAgWzUxLjk4NTcsIDYuOTA4OTMwMDAwMDAwMDAxXSwKICAgICAgICAgICAgICAgIHt9CiAgICAgICAgICAgICkuYWRkVG8obWFya2VyX2NsdXN0ZXJfMjg1M2ZiZjNiMGVmNDM3YWFlOGZmZDQ2NDE5ZTQ5MjkpOwogICAgICAgIAogICAgCiAgICAgICAgdmFyIHBvcHVwX2U3YWJhYzc5N2M1ZDQ5NDBhMGQxZGFmZGI5MjQ2NTRmID0gTC5wb3B1cCh7Im1heFdpZHRoIjogIjEwMCUifSk7CgogICAgICAgIAogICAgICAgICAgICB2YXIgaHRtbF8wZmJmZGE4N2M4NmU0MDg0ODJiZjJjNmE1NWY4ZDkwMyA9ICQoYDxkaXYgaWQ9Imh0bWxfMGZiZmRhODdjODZlNDA4NDgyYmYyYzZhNTVmOGQ5MDMiIHN0eWxlPSJ3aWR0aDogMTAwLjAlOyBoZWlnaHQ6IDEwMC4wJTsiPkZyZWllIFRhbmtzdGVsbGU8L2Rpdj5gKVswXTsKICAgICAgICAgICAgcG9wdXBfZTdhYmFjNzk3YzVkNDk0MGEwZDFkYWZkYjkyNDY1NGYuc2V0Q29udGVudChodG1sXzBmYmZkYTg3Yzg2ZTQwODQ4MmJmMmM2YTU1ZjhkOTAzKTsKICAgICAgICAKCiAgICAgICAgbWFya2VyX2JiZTcwYzg1ODFiOTQxZWVhNTg5N2VjN2ZkYzliOTNiLmJpbmRQb3B1cChwb3B1cF9lN2FiYWM3OTdjNWQ0OTQwYTBkMWRhZmRiOTI0NjU0ZikKICAgICAgICA7CgogICAgICAgIAogICAgCiAgICAKICAgICAgICAgICAgdmFyIG1hcmtlcl9iOTczYzJhNDFiN2M0YjE3YWVmYTdmN2FjMjU0OTdlNCA9IEwubWFya2VyKAogICAgICAgICAgICAgICAgWzUxLjkzMTczNiwgNy42MjY4NzQwMDAwMDAwMDFdLAogICAgICAgICAgICAgICAge30KICAgICAgICAgICAgKS5hZGRUbyhtYXJrZXJfY2x1c3Rlcl8yODUzZmJmM2IwZWY0MzdhYWU4ZmZkNDY0MTllNDkyOSk7CiAgICAgICAgCiAgICAKICAgICAgICB2YXIgcG9wdXBfYTQxNmM4MjQ4NjUxNGVmYjlhZmU4NGI5YTViYWEyODUgPSBMLnBvcHVwKHsibWF4V2lkdGgiOiAiMTAwJSJ9KTsKCiAgICAgICAgCiAgICAgICAgICAgIHZhciBodG1sX2ZkNTZjOWY3MmVmYjQ4ODNhZjFkMGRhYjk5MmMwODM2ID0gJChgPGRpdiBpZD0iaHRtbF9mZDU2YzlmNzJlZmI0ODgzYWYxZDBkYWI5OTJjMDgzNiIgc3R5bGU9IndpZHRoOiAxMDAuMCU7IGhlaWdodDogMTAwLjAlOyI+QVJBTDwvZGl2PmApWzBdOwogICAgICAgICAgICBwb3B1cF9hNDE2YzgyNDg2NTE0ZWZiOWFmZTg0YjlhNWJhYTI4NS5zZXRDb250ZW50KGh0bWxfZmQ1NmM5ZjcyZWZiNDg4M2FmMWQwZGFiOTkyYzA4MzYpOwogICAgICAgIAoKICAgICAgICBtYXJrZXJfYjk3M2MyYTQxYjdjNGIxN2FlZmE3ZjdhYzI1NDk3ZTQuYmluZFBvcHVwKHBvcHVwX2E0MTZjODI0ODY1MTRlZmI5YWZlODRiOWE1YmFhMjg1KQogICAgICAgIDsKCiAgICAgICAgCiAgICAKICAgIAogICAgICAgICAgICB2YXIgbWFya2VyX2U4ODQ4ZjliNTg0MjRkMWVhZjQ5OTNiNDFjMjU2MTgwID0gTC5tYXJrZXIoCiAgICAgICAgICAgICAgICBbNTEuMzIxNzMsIDYuNTc2MThdLAogICAgICAgICAgICAgICAge30KICAgICAgICAgICAgKS5hZGRUbyhtYXJrZXJfY2x1c3Rlcl8yODUzZmJmM2IwZWY0MzdhYWU4ZmZkNDY0MTllNDkyOSk7CiAgICAgICAgCiAgICAKICAgICAgICB2YXIgcG9wdXBfN2I1YTRjZjUxOWYyNDU5OGE3NmFlY2M4MGNlYjBjZmIgPSBMLnBvcHVwKHsibWF4V2lkdGgiOiAiMTAwJSJ9KTsKCiAgICAgICAgCiAgICAgICAgICAgIHZhciBodG1sX2ZlODlhYzZlNzBjNjQ4Yzk4OWJkZTlhYmExZTA0NjczID0gJChgPGRpdiBpZD0iaHRtbF9mZTg5YWM2ZTcwYzY0OGM5ODliZGU5YWJhMWUwNDY3MyIgc3R5bGU9IndpZHRoOiAxMDAuMCU7IGhlaWdodDogMTAwLjAlOyI+RnJlaWU8L2Rpdj5gKVswXTsKICAgICAgICAgICAgcG9wdXBfN2I1YTRjZjUxOWYyNDU5OGE3NmFlY2M4MGNlYjBjZmIuc2V0Q29udGVudChodG1sX2ZlODlhYzZlNzBjNjQ4Yzk4OWJkZTlhYmExZTA0NjczKTsKICAgICAgICAKCiAgICAgICAgbWFya2VyX2U4ODQ4ZjliNTg0MjRkMWVhZjQ5OTNiNDFjMjU2MTgwLmJpbmRQb3B1cChwb3B1cF83YjVhNGNmNTE5ZjI0NTk4YTc2YWVjYzgwY2ViMGNmYikKICAgICAgICA7CgogICAgICAgIAogICAgCiAgICAKICAgICAgICAgICAgdmFyIG1hcmtlcl9mYjFiNzVkNjUxNzQ0YmExYjFmZDI4YWI5MDgxZGI4MyA9IEwubWFya2VyKAogICAgICAgICAgICAgICAgWzUyLjEzODY4LCA4LjE0NjY4OV0sCiAgICAgICAgICAgICAgICB7fQogICAgICAgICAgICApLmFkZFRvKG1hcmtlcl9jbHVzdGVyXzI4NTNmYmYzYjBlZjQzN2FhZThmZmQ0NjQxOWU0OTI5KTsKICAgICAgICAKICAgIAogICAgICAgIHZhciBwb3B1cF85MGE1ZDk0MjA1Yzg0MmJjODU3ZTE2Y2RiMTMxOGFhMiA9IEwucG9wdXAoeyJtYXhXaWR0aCI6ICIxMDAlIn0pOwoKICAgICAgICAKICAgICAgICAgICAgdmFyIGh0bWxfNGE5MzRjY2NmODViNDU0NThhNmU2ZTcwNWU2ZTI4ZWMgPSAkKGA8ZGl2IGlkPSJodG1sXzRhOTM0Y2NjZjg1YjQ1NDU4YTZlNmU3MDVlNmUyOGVjIiBzdHlsZT0id2lkdGg6IDEwMC4wJTsgaGVpZ2h0OiAxMDAuMCU7Ij5UYW5rY2VudGVyPC9kaXY+YClbMF07CiAgICAgICAgICAgIHBvcHVwXzkwYTVkOTQyMDVjODQyYmM4NTdlMTZjZGIxMzE4YWEyLnNldENvbnRlbnQoaHRtbF80YTkzNGNjY2Y4NWI0NTQ1OGE2ZTZlNzA1ZTZlMjhlYyk7CiAgICAgICAgCgogICAgICAgIG1hcmtlcl9mYjFiNzVkNjUxNzQ0YmExYjFmZDI4YWI5MDgxZGI4My5iaW5kUG9wdXAocG9wdXBfOTBhNWQ5NDIwNWM4NDJiYzg1N2UxNmNkYjEzMThhYTIpCiAgICAgICAgOwoKICAgICAgICAKICAgIAogICAgCiAgICAgICAgICAgIHZhciBtYXJrZXJfNGI5MTQ4ZjQwYjZlNGFhNzgwYjdmYjc2YzQ1MDIwZGYgPSBMLm1hcmtlcigKICAgICAgICAgICAgICAgIFs1Mi40ODI5LCA3LjIxNzk2OTk5OTk5OTk5OV0sCiAgICAgICAgICAgICAgICB7fQogICAgICAgICAgICApLmFkZFRvKG1hcmtlcl9jbHVzdGVyXzI4NTNmYmYzYjBlZjQzN2FhZThmZmQ0NjQxOWU0OTI5KTsKICAgICAgICAKICAgIAogICAgICAgIHZhciBwb3B1cF83OWQ0Nzc1NDk2YmM0ZGUxOThlMjZiZjMxMjg2NjBmMCA9IEwucG9wdXAoeyJtYXhXaWR0aCI6ICIxMDAlIn0pOwoKICAgICAgICAKICAgICAgICAgICAgdmFyIGh0bWxfMWFjYTFhZmVlMjVjNDYwOThjMWE0Y2RjMzYyMWI5ZmYgPSAkKGA8ZGl2IGlkPSJodG1sXzFhY2ExYWZlZTI1YzQ2MDk4YzFhNGNkYzM2MjFiOWZmIiBzdHlsZT0id2lkdGg6IDEwMC4wJTsgaGVpZ2h0OiAxMDAuMCU7Ij5SYWlmZmVpc2VuPC9kaXY+YClbMF07CiAgICAgICAgICAgIHBvcHVwXzc5ZDQ3NzU0OTZiYzRkZTE5OGUyNmJmMzEyODY2MGYwLnNldENvbnRlbnQoaHRtbF8xYWNhMWFmZWUyNWM0NjA5OGMxYTRjZGMzNjIxYjlmZik7CiAgICAgICAgCgogICAgICAgIG1hcmtlcl80YjkxNDhmNDBiNmU0YWE3ODBiN2ZiNzZjNDUwMjBkZi5iaW5kUG9wdXAocG9wdXBfNzlkNDc3NTQ5NmJjNGRlMTk4ZTI2YmYzMTI4NjYwZjApCiAgICAgICAgOwoKICAgICAgICAKICAgIAogICAgCiAgICAgICAgICAgIHZhciBtYXJrZXJfZTlkN2YyMWMzMmQwNDBhNWFkN2U3MzI5ZTg3OTdmNDggPSBMLm1hcmtlcigKICAgICAgICAgICAgICAgIFs1MS45Nzc1NywgNy42MDA0M10sCiAgICAgICAgICAgICAgICB7fQogICAgICAgICAgICApLmFkZFRvKG1hcmtlcl9jbHVzdGVyXzI4NTNmYmYzYjBlZjQzN2FhZThmZmQ0NjQxOWU0OTI5KTsKICAgICAgICAKICAgIAogICAgICAgIHZhciBwb3B1cF8wZWQwOWJjYzU4NWI0MzViYmQ0ZDFlZjYxNmRmM2NjYSA9IEwucG9wdXAoeyJtYXhXaWR0aCI6ICIxMDAlIn0pOwoKICAgICAgICAKICAgICAgICAgICAgdmFyIGh0bWxfZWVjNGY5Y2NjMTM1NGU0NjlkNTU5N2Y1YWE1ZWM0MTcgPSAkKGA8ZGl2IGlkPSJodG1sX2VlYzRmOWNjYzEzNTRlNDY5ZDU1OTdmNWFhNWVjNDE3IiBzdHlsZT0id2lkdGg6IDEwMC4wJTsgaGVpZ2h0OiAxMDAuMCU7Ij5XZXN0ZmFsZW48L2Rpdj5gKVswXTsKICAgICAgICAgICAgcG9wdXBfMGVkMDliY2M1ODViNDM1YmJkNGQxZWY2MTZkZjNjY2Euc2V0Q29udGVudChodG1sX2VlYzRmOWNjYzEzNTRlNDY5ZDU1OTdmNWFhNWVjNDE3KTsKICAgICAgICAKCiAgICAgICAgbWFya2VyX2U5ZDdmMjFjMzJkMDQwYTVhZDdlNzMyOWU4Nzk3ZjQ4LmJpbmRQb3B1cChwb3B1cF8wZWQwOWJjYzU4NWI0MzViYmQ0ZDFlZjYxNmRmM2NjYSkKICAgICAgICA7CgogICAgICAgIAogICAgCjwvc2NyaXB0Pg==\" style=\"position:absolute;width:100%;height:100%;left:0;top:0;border:none !important;\" allowfullscreen webkitallowfullscreen mozallowfullscreen></iframe></div></div>"
      ],
      "text/plain": [
       "<folium.folium.Map at 0x7fe909637210>"
      ]
     },
     "execution_count": 65,
     "metadata": {},
     "output_type": "execute_result"
    }
   ],
   "source": [
    "#define the NRW map\n",
    "latitude = 51.8\n",
    "longitude = 7\n",
    "nrw_map = folium.Map(location=[latitude, longitude], zoom_start=8)\n",
    "\n",
    "# instantiate a mark cluster object for the gas stations in the dataframe\n",
    "gas_stations = plugins.MarkerCluster().add_to(nrw_map)\n",
    "\n",
    "# loop through the dataframe and add each data point to the mark cluster\n",
    "for lat, lng, label in zip(gs_latitudes, gs_longitudes, gs_labels):\n",
    "    folium.Marker(\n",
    "        location=[lat, lng],\n",
    "        icon=None,\n",
    "        popup=label,\n",
    "    ).add_to(gas_stations)\n",
    "\n",
    "nrw_map"
   ]
  },
  {
   "cell_type": "code",
   "execution_count": null,
   "metadata": {},
   "outputs": [],
   "source": []
  }
 ],
 "metadata": {
  "kernelspec": {
   "display_name": "data_science",
   "language": "python",
   "name": "data_science"
  },
  "language_info": {
   "codemirror_mode": {
    "name": "ipython",
    "version": 3
   },
   "file_extension": ".py",
   "mimetype": "text/x-python",
   "name": "python",
   "nbconvert_exporter": "python",
   "pygments_lexer": "ipython3",
   "version": "3.7.5"
  }
 },
 "nbformat": 4,
 "nbformat_minor": 4
}
