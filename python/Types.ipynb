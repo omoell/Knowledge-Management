{
 "cells": [
  {
   "cell_type": "markdown",
   "metadata": {},
   "source": [
    "# Learnings for handling types"
   ]
  },
  {
   "cell_type": "markdown",
   "metadata": {},
   "source": [
    "## Check type of a variable"
   ]
  },
  {
   "cell_type": "code",
   "execution_count": 4,
   "metadata": {},
   "outputs": [
    {
     "name": "stdout",
     "output_type": "stream",
     "text": [
      "<class 'str'>\n",
      "<class 'int'>\n",
      "<class 'str'>\n"
     ]
    }
   ],
   "source": [
    "test = \"Das ist ein Test\"\n",
    "test2 = 1234\n",
    "test3 = \"1234\"\n",
    "\n",
    "print(type(test))\n",
    "print(type(test2))\n",
    "print(type(test3))"
   ]
  },
  {
   "cell_type": "markdown",
   "metadata": {},
   "source": [
    "## If variable is type then"
   ]
  },
  {
   "cell_type": "code",
   "execution_count": 17,
   "metadata": {},
   "outputs": [
    {
     "name": "stdout",
     "output_type": "stream",
     "text": [
      "\"Das ist ein Test\" is a string\n",
      "1234 is an int\n"
     ]
    }
   ],
   "source": [
    "if isinstance(test, str):\n",
    "    print(\"\\\"\" + test + \"\\\"\" + \" is a string\")\n",
    "else:\n",
    "    print(\"\\\"\" + test + \"\\\"\" + \" is not a string\")\n",
    "        \n",
    "if isinstance(test2, int):\n",
    "    print(str(test2) + \" is an int\")\n",
    "else:\n",
    "    print(str(test2) + \" is not an int\")"
   ]
  }
 ],
 "metadata": {
  "kernelspec": {
   "display_name": "Python 3",
   "language": "python",
   "name": "python3"
  },
  "language_info": {
   "codemirror_mode": {
    "name": "ipython",
    "version": 3
   },
   "file_extension": ".py",
   "mimetype": "text/x-python",
   "name": "python",
   "nbconvert_exporter": "python",
   "pygments_lexer": "ipython3",
   "version": "3.7.4"
  }
 },
 "nbformat": 4,
 "nbformat_minor": 4
}
