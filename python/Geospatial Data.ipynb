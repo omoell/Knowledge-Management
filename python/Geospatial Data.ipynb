{
 "cells": [
  {
   "cell_type": "markdown",
   "metadata": {},
   "source": [
    "Learnings for Geospatial Data"
   ]
  },
  {
   "cell_type": "code",
   "execution_count": 2,
   "metadata": {},
   "outputs": [],
   "source": [
    "import folium\n",
    "from folium import plugins\n",
    "import pandas as pd"
   ]
  },
  {
   "cell_type": "markdown",
   "metadata": {},
   "source": [
    "# Styles of maps"
   ]
  },
  {
   "cell_type": "code",
   "execution_count": 3,
   "metadata": {},
   "outputs": [
    {
     "data": {
      "text/html": [
       "<div style=\"width:100%;\"><div style=\"position:relative;width:100%;height:0;padding-bottom:60%;\"><iframe src=\"data:text/html;charset=utf-8;base64,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\" style=\"position:absolute;width:100%;height:100%;left:0;top:0;border:none !important;\" allowfullscreen webkitallowfullscreen mozallowfullscreen></iframe></div></div>"
      ],
      "text/plain": [
       "<folium.folium.Map at 0x7f9daec2a850>"
      ]
     },
     "execution_count": 3,
     "metadata": {},
     "output_type": "execute_result"
    }
   ],
   "source": [
    "# define the world map\n",
    "latitude = 51\n",
    "longitude = 10\n",
    "world_map = folium.Map(location=[latitude, longitude], zoom_start=3)\n",
    "world_map"
   ]
  },
  {
   "cell_type": "code",
   "execution_count": 4,
   "metadata": {},
   "outputs": [
    {
     "data": {
      "text/html": [
       "<div style=\"width:100%;\"><div style=\"position:relative;width:100%;height:0;padding-bottom:60%;\"><iframe src=\"data:text/html;charset=utf-8;base64,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\" style=\"position:absolute;width:100%;height:100%;left:0;top:0;border:none !important;\" allowfullscreen webkitallowfullscreen mozallowfullscreen></iframe></div></div>"
      ],
      "text/plain": [
       "<folium.folium.Map at 0x7f9ddc753390>"
      ]
     },
     "execution_count": 4,
     "metadata": {},
     "output_type": "execute_result"
    }
   ],
   "source": [
    "world_map_stamen_toner = folium.Map(location=[latitude, longitude], zoom_start=3, tiles='Stamen Toner')\n",
    "world_map_stamen_toner"
   ]
  },
  {
   "cell_type": "code",
   "execution_count": 5,
   "metadata": {},
   "outputs": [
    {
     "data": {
      "text/html": [
       "<div style=\"width:100%;\"><div style=\"position:relative;width:100%;height:0;padding-bottom:60%;\"><iframe src=\"data:text/html;charset=utf-8;base64,PCFET0NUWVBFIGh0bWw+CjxoZWFkPiAgICAKICAgIDxtZXRhIGh0dHAtZXF1aXY9ImNvbnRlbnQtdHlwZSIgY29udGVudD0idGV4dC9odG1sOyBjaGFyc2V0PVVURi04IiAvPgogICAgCiAgICAgICAgPHNjcmlwdD4KICAgICAgICAgICAgTF9OT19UT1VDSCA9IGZhbHNlOwogICAgICAgICAgICBMX0RJU0FCTEVfM0QgPSBmYWxzZTsKICAgICAgICA8L3NjcmlwdD4KICAgIAogICAgPHNjcmlwdCBzcmM9Imh0dHBzOi8vY2RuLmpzZGVsaXZyLm5ldC9ucG0vbGVhZmxldEAxLjUuMS9kaXN0L2xlYWZsZXQuanMiPjwvc2NyaXB0PgogICAgPHNjcmlwdCBzcmM9Imh0dHBzOi8vY29kZS5qcXVlcnkuY29tL2pxdWVyeS0xLjEyLjQubWluLmpzIj48L3NjcmlwdD4KICAgIDxzY3JpcHQgc3JjPSJodHRwczovL21heGNkbi5ib290c3RyYXBjZG4uY29tL2Jvb3RzdHJhcC8zLjIuMC9qcy9ib290c3RyYXAubWluLmpzIj48L3NjcmlwdD4KICAgIDxzY3JpcHQgc3JjPSJodHRwczovL2NkbmpzLmNsb3VkZmxhcmUuY29tL2FqYXgvbGlicy9MZWFmbGV0LmF3ZXNvbWUtbWFya2Vycy8yLjAuMi9sZWFmbGV0LmF3ZXNvbWUtbWFya2Vycy5qcyI+PC9zY3JpcHQ+CiAgICA8bGluayByZWw9InN0eWxlc2hlZXQiIGhyZWY9Imh0dHBzOi8vY2RuLmpzZGVsaXZyLm5ldC9ucG0vbGVhZmxldEAxLjUuMS9kaXN0L2xlYWZsZXQuY3NzIi8+CiAgICA8bGluayByZWw9InN0eWxlc2hlZXQiIGhyZWY9Imh0dHBzOi8vbWF4Y2RuLmJvb3RzdHJhcGNkbi5jb20vYm9vdHN0cmFwLzMuMi4wL2Nzcy9ib290c3RyYXAubWluLmNzcyIvPgogICAgPGxpbmsgcmVsPSJzdHlsZXNoZWV0IiBocmVmPSJodHRwczovL21heGNkbi5ib290c3RyYXBjZG4uY29tL2Jvb3RzdHJhcC8zLjIuMC9jc3MvYm9vdHN0cmFwLXRoZW1lLm1pbi5jc3MiLz4KICAgIDxsaW5rIHJlbD0ic3R5bGVzaGVldCIgaHJlZj0iaHR0cHM6Ly9tYXhjZG4uYm9vdHN0cmFwY2RuLmNvbS9mb250LWF3ZXNvbWUvNC42LjMvY3NzL2ZvbnQtYXdlc29tZS5taW4uY3NzIi8+CiAgICA8bGluayByZWw9InN0eWxlc2hlZXQiIGhyZWY9Imh0dHBzOi8vY2RuanMuY2xvdWRmbGFyZS5jb20vYWpheC9saWJzL0xlYWZsZXQuYXdlc29tZS1tYXJrZXJzLzIuMC4yL2xlYWZsZXQuYXdlc29tZS1tYXJrZXJzLmNzcyIvPgogICAgPGxpbmsgcmVsPSJzdHlsZXNoZWV0IiBocmVmPSJodHRwczovL3Jhd2Nkbi5naXRoYWNrLmNvbS9weXRob24tdmlzdWFsaXphdGlvbi9mb2xpdW0vbWFzdGVyL2ZvbGl1bS90ZW1wbGF0ZXMvbGVhZmxldC5hd2Vzb21lLnJvdGF0ZS5jc3MiLz4KICAgIDxzdHlsZT5odG1sLCBib2R5IHt3aWR0aDogMTAwJTtoZWlnaHQ6IDEwMCU7bWFyZ2luOiAwO3BhZGRpbmc6IDA7fTwvc3R5bGU+CiAgICA8c3R5bGU+I21hcCB7cG9zaXRpb246YWJzb2x1dGU7dG9wOjA7Ym90dG9tOjA7cmlnaHQ6MDtsZWZ0OjA7fTwvc3R5bGU+CiAgICAKICAgICAgICAgICAgPG1ldGEgbmFtZT0idmlld3BvcnQiIGNvbnRlbnQ9IndpZHRoPWRldmljZS13aWR0aCwKICAgICAgICAgICAgICAgIGluaXRpYWwtc2NhbGU9MS4wLCBtYXhpbXVtLXNjYWxlPTEuMCwgdXNlci1zY2FsYWJsZT1ubyIgLz4KICAgICAgICAgICAgPHN0eWxlPgogICAgICAgICAgICAgICAgI21hcF85NzQ1NjAxMGE5OTE0YWJiYjA5ZmMzY2U3OTAyOTBlNyB7CiAgICAgICAgICAgICAgICAgICAgcG9zaXRpb246IHJlbGF0aXZlOwogICAgICAgICAgICAgICAgICAgIHdpZHRoOiAxMDAuMCU7CiAgICAgICAgICAgICAgICAgICAgaGVpZ2h0OiAxMDAuMCU7CiAgICAgICAgICAgICAgICAgICAgbGVmdDogMC4wJTsKICAgICAgICAgICAgICAgICAgICB0b3A6IDAuMCU7CiAgICAgICAgICAgICAgICB9CiAgICAgICAgICAgIDwvc3R5bGU+CiAgICAgICAgCjwvaGVhZD4KPGJvZHk+ICAgIAogICAgCiAgICAgICAgICAgIDxkaXYgY2xhc3M9ImZvbGl1bS1tYXAiIGlkPSJtYXBfOTc0NTYwMTBhOTkxNGFiYmIwOWZjM2NlNzkwMjkwZTciID48L2Rpdj4KICAgICAgICAKPC9ib2R5Pgo8c2NyaXB0PiAgICAKICAgIAogICAgICAgICAgICB2YXIgbWFwXzk3NDU2MDEwYTk5MTRhYmJiMDlmYzNjZTc5MDI5MGU3ID0gTC5tYXAoCiAgICAgICAgICAgICAgICAibWFwXzk3NDU2MDEwYTk5MTRhYmJiMDlmYzNjZTc5MDI5MGU3IiwKICAgICAgICAgICAgICAgIHsKICAgICAgICAgICAgICAgICAgICBjZW50ZXI6IFs1MS4wLCAxMC4wXSwKICAgICAgICAgICAgICAgICAgICBjcnM6IEwuQ1JTLkVQU0czODU3LAogICAgICAgICAgICAgICAgICAgIHpvb206IDMsCiAgICAgICAgICAgICAgICAgICAgem9vbUNvbnRyb2w6IHRydWUsCiAgICAgICAgICAgICAgICAgICAgcHJlZmVyQ2FudmFzOiBmYWxzZSwKICAgICAgICAgICAgICAgIH0KICAgICAgICAgICAgKTsKCiAgICAgICAgICAgIAoKICAgICAgICAKICAgIAogICAgICAgICAgICB2YXIgdGlsZV9sYXllcl9jNDA2NzY2ZGRlNTY0NzEyOGUzYTQ4NzQ3MTI3OGZiNyA9IEwudGlsZUxheWVyKAogICAgICAgICAgICAgICAgImh0dHBzOi8vc3RhbWVuLXRpbGVzLXtzfS5hLnNzbC5mYXN0bHkubmV0L3RlcnJhaW4ve3p9L3t4fS97eX0uanBnIiwKICAgICAgICAgICAgICAgIHsiYXR0cmlidXRpb24iOiAiTWFwIHRpbGVzIGJ5IFx1MDAzY2EgaHJlZj1cImh0dHA6Ly9zdGFtZW4uY29tXCJcdTAwM2VTdGFtZW4gRGVzaWduXHUwMDNjL2FcdTAwM2UsIHVuZGVyIFx1MDAzY2EgaHJlZj1cImh0dHA6Ly9jcmVhdGl2ZWNvbW1vbnMub3JnL2xpY2Vuc2VzL2J5LzMuMFwiXHUwMDNlQ0MgQlkgMy4wXHUwMDNjL2FcdTAwM2UuIERhdGEgYnkgXHUwMDI2Y29weTsgXHUwMDNjYSBocmVmPVwiaHR0cDovL29wZW5zdHJlZXRtYXAub3JnXCJcdTAwM2VPcGVuU3RyZWV0TWFwXHUwMDNjL2FcdTAwM2UsIHVuZGVyIFx1MDAzY2EgaHJlZj1cImh0dHA6Ly9jcmVhdGl2ZWNvbW1vbnMub3JnL2xpY2Vuc2VzL2J5LXNhLzMuMFwiXHUwMDNlQ0MgQlkgU0FcdTAwM2MvYVx1MDAzZS4iLCAiZGV0ZWN0UmV0aW5hIjogZmFsc2UsICJtYXhOYXRpdmVab29tIjogMTgsICJtYXhab29tIjogMTgsICJtaW5ab29tIjogMCwgIm5vV3JhcCI6IGZhbHNlLCAib3BhY2l0eSI6IDEsICJzdWJkb21haW5zIjogImFiYyIsICJ0bXMiOiBmYWxzZX0KICAgICAgICAgICAgKS5hZGRUbyhtYXBfOTc0NTYwMTBhOTkxNGFiYmIwOWZjM2NlNzkwMjkwZTcpOwogICAgICAgIAo8L3NjcmlwdD4=\" style=\"position:absolute;width:100%;height:100%;left:0;top:0;border:none !important;\" allowfullscreen webkitallowfullscreen mozallowfullscreen></iframe></div></div>"
      ],
      "text/plain": [
       "<folium.folium.Map at 0x7f9daec185d0>"
      ]
     },
     "execution_count": 5,
     "metadata": {},
     "output_type": "execute_result"
    }
   ],
   "source": [
    "world_map_stamen_terrain = folium.Map(location=[latitude, longitude], zoom_start=3, tiles='Stamen Terrain')\n",
    "world_map_stamen_terrain"
   ]
  },
  {
   "cell_type": "markdown",
   "metadata": {
    "toc-hr-collapsed": true
   },
   "source": [
    "# Add markers to map"
   ]
  },
  {
   "cell_type": "code",
   "execution_count": 6,
   "metadata": {},
   "outputs": [
    {
     "data": {
      "text/html": [
       "<div>\n",
       "<style scoped>\n",
       "    .dataframe tbody tr th:only-of-type {\n",
       "        vertical-align: middle;\n",
       "    }\n",
       "\n",
       "    .dataframe tbody tr th {\n",
       "        vertical-align: top;\n",
       "    }\n",
       "\n",
       "    .dataframe thead th {\n",
       "        text-align: right;\n",
       "    }\n",
       "</style>\n",
       "<table border=\"1\" class=\"dataframe\">\n",
       "  <thead>\n",
       "    <tr style=\"text-align: right;\">\n",
       "      <th></th>\n",
       "      <th>Unnamed: 0</th>\n",
       "      <th>id</th>\n",
       "      <th>version</th>\n",
       "      <th>version_time</th>\n",
       "      <th>name</th>\n",
       "      <th>brand</th>\n",
       "      <th>street</th>\n",
       "      <th>house_number</th>\n",
       "      <th>post_code</th>\n",
       "      <th>place</th>\n",
       "      <th>public_holiday_identifier</th>\n",
       "      <th>lat</th>\n",
       "      <th>lng</th>\n",
       "      <th>price_in_import</th>\n",
       "      <th>price_changed</th>\n",
       "      <th>open_ts</th>\n",
       "      <th>ot_json</th>\n",
       "      <th>station_in_import</th>\n",
       "      <th>first_active</th>\n",
       "    </tr>\n",
       "  </thead>\n",
       "  <tbody>\n",
       "    <tr>\n",
       "      <th>0</th>\n",
       "      <td>0</td>\n",
       "      <td>00099999-8026-4444-8888-acdc00008026</td>\n",
       "      <td>0</td>\n",
       "      <td>2019-06-29 00:00:15.952</td>\n",
       "      <td>ch-tank</td>\n",
       "      <td>ch-tank</td>\n",
       "      <td>Freckenhorster Straße</td>\n",
       "      <td>39</td>\n",
       "      <td>48231</td>\n",
       "      <td>Warendorf</td>\n",
       "      <td>NaN</td>\n",
       "      <td>51.949173</td>\n",
       "      <td>7.987864</td>\n",
       "      <td>2019-06-30 17:10:06+02:00</td>\n",
       "      <td>2019-06-30 16:52:14+02:00</td>\n",
       "      <td>1</td>\n",
       "      <td>{}</td>\n",
       "      <td>2019-06-30 00:00:35+02:00</td>\n",
       "      <td>2014-05-27 00:00:01+02:00</td>\n",
       "    </tr>\n",
       "    <tr>\n",
       "      <th>1</th>\n",
       "      <td>1</td>\n",
       "      <td>005056ba-7cb6-1ed2-bceb-87f71ccd4d30</td>\n",
       "      <td>1896</td>\n",
       "      <td>2019-06-27 22:55:08.603</td>\n",
       "      <td>star Tankstelle</td>\n",
       "      <td>STAR</td>\n",
       "      <td>Hochdahler Straße</td>\n",
       "      <td>127</td>\n",
       "      <td>40724</td>\n",
       "      <td>Hilden</td>\n",
       "      <td>NaN</td>\n",
       "      <td>51.176260</td>\n",
       "      <td>6.938810</td>\n",
       "      <td>2019-06-30 17:10:06+02:00</td>\n",
       "      <td>2019-06-30 16:25:06+02:00</td>\n",
       "      <td>1</td>\n",
       "      <td>{}</td>\n",
       "      <td>2019-06-30 00:00:35+02:00</td>\n",
       "      <td>2014-03-18 16:45:31+01:00</td>\n",
       "    </tr>\n",
       "    <tr>\n",
       "      <th>2</th>\n",
       "      <td>2</td>\n",
       "      <td>005056ba-7cb6-1ed2-bceb-9d5672a1ed3c</td>\n",
       "      <td>1896</td>\n",
       "      <td>2019-06-27 22:55:10.694</td>\n",
       "      <td>star Tankstelle</td>\n",
       "      <td>STAR</td>\n",
       "      <td>Koelner Straße</td>\n",
       "      <td>69</td>\n",
       "      <td>45481</td>\n",
       "      <td>Muelheim</td>\n",
       "      <td>NaN</td>\n",
       "      <td>51.398030</td>\n",
       "      <td>6.875490</td>\n",
       "      <td>2019-06-30 17:10:06+02:00</td>\n",
       "      <td>2019-06-30 16:25:06+02:00</td>\n",
       "      <td>1561932000</td>\n",
       "      <td>{\"openingTimes\":[{\"applicable_days\":127,\"perio...</td>\n",
       "      <td>2019-06-30 00:00:35+02:00</td>\n",
       "      <td>2014-03-18 16:45:31+01:00</td>\n",
       "    </tr>\n",
       "    <tr>\n",
       "      <th>3</th>\n",
       "      <td>3</td>\n",
       "      <td>08ef94ae-2071-4b49-bcff-42f3cbb2e7b2</td>\n",
       "      <td>7</td>\n",
       "      <td>2016-02-02 16:28:09.000</td>\n",
       "      <td>Aral Tankstelle</td>\n",
       "      <td>ARAL</td>\n",
       "      <td>Wittener Straße</td>\n",
       "      <td>66</td>\n",
       "      <td>44789</td>\n",
       "      <td>Bochum</td>\n",
       "      <td>NaN</td>\n",
       "      <td>51.477486</td>\n",
       "      <td>7.227767</td>\n",
       "      <td>2019-06-30 17:10:06+02:00</td>\n",
       "      <td>2019-06-30 17:05:06+02:00</td>\n",
       "      <td>1</td>\n",
       "      <td>{}</td>\n",
       "      <td>2019-06-30 00:00:35+02:00</td>\n",
       "      <td>2014-03-18 16:45:31+01:00</td>\n",
       "    </tr>\n",
       "    <tr>\n",
       "      <th>4</th>\n",
       "      <td>4</td>\n",
       "      <td>0ada6bf2-7ca4-4874-87c1-1f6321aff715</td>\n",
       "      <td>493</td>\n",
       "      <td>2019-06-26 19:55:02.000</td>\n",
       "      <td>Freie SB Tankstelle</td>\n",
       "      <td>Freie Tankstelle</td>\n",
       "      <td>Eschstraße</td>\n",
       "      <td>95</td>\n",
       "      <td>48703</td>\n",
       "      <td>Stadtlohn</td>\n",
       "      <td>NaN</td>\n",
       "      <td>51.985700</td>\n",
       "      <td>6.908930</td>\n",
       "      <td>2019-06-30 17:10:06+02:00</td>\n",
       "      <td>2019-06-28 12:01:06+02:00</td>\n",
       "      <td>1</td>\n",
       "      <td>{}</td>\n",
       "      <td>2019-06-27 00:00:38+02:00</td>\n",
       "      <td>2018-02-20 23:30:06+01:00</td>\n",
       "    </tr>\n",
       "  </tbody>\n",
       "</table>\n",
       "</div>"
      ],
      "text/plain": [
       "   Unnamed: 0                                    id  version  \\\n",
       "0           0  00099999-8026-4444-8888-acdc00008026        0   \n",
       "1           1  005056ba-7cb6-1ed2-bceb-87f71ccd4d30     1896   \n",
       "2           2  005056ba-7cb6-1ed2-bceb-9d5672a1ed3c     1896   \n",
       "3           3  08ef94ae-2071-4b49-bcff-42f3cbb2e7b2        7   \n",
       "4           4  0ada6bf2-7ca4-4874-87c1-1f6321aff715      493   \n",
       "\n",
       "              version_time                 name             brand  \\\n",
       "0  2019-06-29 00:00:15.952              ch-tank           ch-tank   \n",
       "1  2019-06-27 22:55:08.603      star Tankstelle              STAR   \n",
       "2  2019-06-27 22:55:10.694      star Tankstelle              STAR   \n",
       "3  2016-02-02 16:28:09.000      Aral Tankstelle              ARAL   \n",
       "4  2019-06-26 19:55:02.000  Freie SB Tankstelle  Freie Tankstelle   \n",
       "\n",
       "                  street house_number  post_code      place  \\\n",
       "0  Freckenhorster Straße           39      48231  Warendorf   \n",
       "1      Hochdahler Straße          127      40724     Hilden   \n",
       "2         Koelner Straße           69      45481   Muelheim   \n",
       "3        Wittener Straße           66      44789     Bochum   \n",
       "4             Eschstraße           95      48703  Stadtlohn   \n",
       "\n",
       "   public_holiday_identifier        lat       lng            price_in_import  \\\n",
       "0                        NaN  51.949173  7.987864  2019-06-30 17:10:06+02:00   \n",
       "1                        NaN  51.176260  6.938810  2019-06-30 17:10:06+02:00   \n",
       "2                        NaN  51.398030  6.875490  2019-06-30 17:10:06+02:00   \n",
       "3                        NaN  51.477486  7.227767  2019-06-30 17:10:06+02:00   \n",
       "4                        NaN  51.985700  6.908930  2019-06-30 17:10:06+02:00   \n",
       "\n",
       "               price_changed     open_ts  \\\n",
       "0  2019-06-30 16:52:14+02:00           1   \n",
       "1  2019-06-30 16:25:06+02:00           1   \n",
       "2  2019-06-30 16:25:06+02:00  1561932000   \n",
       "3  2019-06-30 17:05:06+02:00           1   \n",
       "4  2019-06-28 12:01:06+02:00           1   \n",
       "\n",
       "                                             ot_json  \\\n",
       "0                                                 {}   \n",
       "1                                                 {}   \n",
       "2  {\"openingTimes\":[{\"applicable_days\":127,\"perio...   \n",
       "3                                                 {}   \n",
       "4                                                 {}   \n",
       "\n",
       "           station_in_import               first_active  \n",
       "0  2019-06-30 00:00:35+02:00  2014-05-27 00:00:01+02:00  \n",
       "1  2019-06-30 00:00:35+02:00  2014-03-18 16:45:31+01:00  \n",
       "2  2019-06-30 00:00:35+02:00  2014-03-18 16:45:31+01:00  \n",
       "3  2019-06-30 00:00:35+02:00  2014-03-18 16:45:31+01:00  \n",
       "4  2019-06-27 00:00:38+02:00  2018-02-20 23:30:06+01:00  "
      ]
     },
     "execution_count": 6,
     "metadata": {},
     "output_type": "execute_result"
    }
   ],
   "source": [
    "df_gas_stations = pd.read_csv('gas_station_examples.csv')\n",
    "df_gas_stations.head()"
   ]
  },
  {
   "cell_type": "code",
   "execution_count": 9,
   "metadata": {},
   "outputs": [],
   "source": [
    "# extract location information and brand of gas stations as labels\n",
    "gs_latitudes = list(df_gas_stations.lat)\n",
    "gs_longitudes = list(df_gas_stations.lng)\n",
    "gs_labels = list(df_gas_stations.brand)"
   ]
  },
  {
   "cell_type": "markdown",
   "metadata": {},
   "source": [
    "## Only marker - no popup"
   ]
  },
  {
   "cell_type": "code",
   "execution_count": 7,
   "metadata": {},
   "outputs": [
    {
     "data": {
      "text/html": [
       "<div style=\"width:100%;\"><div style=\"position:relative;width:100%;height:0;padding-bottom:60%;\"><iframe src=\"data:text/html;charset=utf-8;base64,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\" style=\"position:absolute;width:100%;height:100%;left:0;top:0;border:none !important;\" allowfullscreen webkitallowfullscreen mozallowfullscreen></iframe></div></div>"
      ],
      "text/plain": [
       "<folium.folium.Map at 0x7f9daebd7210>"
      ]
     },
     "execution_count": 7,
     "metadata": {},
     "output_type": "execute_result"
    }
   ],
   "source": [
    "#define the NRW map\n",
    "latitude = 51.8\n",
    "longitude = 7\n",
    "nrw_map = folium.Map(location=[latitude, longitude], zoom_start=8)\n",
    "\n",
    "# instantiate a feature group for the gas stations in the dataframe\n",
    "gas_stations = folium.map.FeatureGroup()\n",
    "\n",
    "# loop through the 100 crimes and add each to the incidents feature group\n",
    "for lat, lng, in zip(df_gas_stations.lat, df_gas_stations.lng):\n",
    "    gas_stations.add_child(\n",
    "        folium.features.RegularPolygonMarker(\n",
    "            [lat, lng],\n",
    "            radius=5, # define how big you want the circle markers to be\n",
    "            color='red',\n",
    "            fill=True,\n",
    "            fill_color='blue',\n",
    "            fill_opacity=0.6\n",
    "        )\n",
    "    )\n",
    "    \n",
    "# add gas_stations to map\n",
    "nrw_map.add_child(gas_stations)"
   ]
  },
  {
   "cell_type": "markdown",
   "metadata": {},
   "source": [
    "## Marker with popups"
   ]
  },
  {
   "cell_type": "code",
   "execution_count": 10,
   "metadata": {},
   "outputs": [
    {
     "data": {
      "text/html": [
       "<div style=\"width:100%;\"><div style=\"position:relative;width:100%;height:0;padding-bottom:60%;\"><iframe src=\"data:text/html;charset=utf-8;base64,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\" style=\"position:absolute;width:100%;height:100%;left:0;top:0;border:none !important;\" allowfullscreen webkitallowfullscreen mozallowfullscreen></iframe></div></div>"
      ],
      "text/plain": [
       "<folium.folium.Map at 0x7f9daeb3b990>"
      ]
     },
     "execution_count": 10,
     "metadata": {},
     "output_type": "execute_result"
    }
   ],
   "source": [
    "#define the NRW map\n",
    "latitude = 51.8\n",
    "longitude = 7\n",
    "nrw_map = folium.Map(location=[latitude, longitude], zoom_start=8)\n",
    "\n",
    "# instantiate a feature group for the gas stations in the dataframe\n",
    "gas_stations = folium.map.FeatureGroup()\n",
    "\n",
    "for lat, lng, label in zip(gs_latitudes, gs_longitudes, gs_labels):\n",
    "     gas_stations.add_child(\n",
    "        folium.features.RegularPolygonMarker(\n",
    "            [lat, lng],\n",
    "            radius=5, # define how big you want the circle markers to be\n",
    "            color='red',\n",
    "            fill=True,\n",
    "            fill_color='blue',\n",
    "            fill_opacity=0.6,\n",
    "            popup=label\n",
    "        )\n",
    "    ).add_to(nrw_map)\n",
    "    \n",
    "nrw_map"
   ]
  },
  {
   "cell_type": "markdown",
   "metadata": {},
   "source": [
    "## Marker with pins and popups"
   ]
  },
  {
   "cell_type": "code",
   "execution_count": 11,
   "metadata": {},
   "outputs": [
    {
     "data": {
      "text/html": [
       "<div style=\"width:100%;\"><div style=\"position:relative;width:100%;height:0;padding-bottom:60%;\"><iframe src=\"data:text/html;charset=utf-8;base64,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\" style=\"position:absolute;width:100%;height:100%;left:0;top:0;border:none !important;\" allowfullscreen webkitallowfullscreen mozallowfullscreen></iframe></div></div>"
      ],
      "text/plain": [
       "<folium.folium.Map at 0x7f9daeaa3b90>"
      ]
     },
     "execution_count": 11,
     "metadata": {},
     "output_type": "execute_result"
    }
   ],
   "source": [
    "#define the NRW map\n",
    "latitude = 51.8\n",
    "longitude = 7\n",
    "nrw_map = folium.Map(location=[latitude, longitude], zoom_start=8)\n",
    "    \n",
    "for lat, lng, label in zip(gs_latitudes, gs_longitudes, gs_labels):\n",
    "    folium.Marker([lat, lng], popup=label).add_to(nrw_map) \n",
    "    \n",
    "nrw_map"
   ]
  },
  {
   "cell_type": "markdown",
   "metadata": {},
   "source": [
    "## Clusters of marker pins with popups"
   ]
  },
  {
   "cell_type": "code",
   "execution_count": 12,
   "metadata": {},
   "outputs": [
    {
     "data": {
      "text/html": [
       "<div style=\"width:100%;\"><div style=\"position:relative;width:100%;height:0;padding-bottom:60%;\"><iframe src=\"data:text/html;charset=utf-8;base64,PCFET0NUWVBFIGh0bWw+CjxoZWFkPiAgICAKICAgIDxtZXRhIGh0dHAtZXF1aXY9ImNvbnRlbnQtdHlwZSIgY29udGVudD0idGV4dC9odG1sOyBjaGFyc2V0PVVURi04IiAvPgogICAgCiAgICAgICAgPHNjcmlwdD4KICAgICAgICAgICAgTF9OT19UT1VDSCA9IGZhbHNlOwogICAgICAgICAgICBMX0RJU0FCTEVfM0QgPSBmYWxzZTsKICAgICAgICA8L3NjcmlwdD4KICAgIAogICAgPHNjcmlwdCBzcmM9Imh0dHBzOi8vY2RuLmpzZGVsaXZyLm5ldC9ucG0vbGVhZmxldEAxLjUuMS9kaXN0L2xlYWZsZXQuanMiPjwvc2NyaXB0PgogICAgPHNjcmlwdCBzcmM9Imh0dHBzOi8vY29kZS5qcXVlcnkuY29tL2pxdWVyeS0xLjEyLjQubWluLmpzIj48L3NjcmlwdD4KICAgIDxzY3JpcHQgc3JjPSJodHRwczovL21heGNkbi5ib290c3RyYXBjZG4uY29tL2Jvb3RzdHJhcC8zLjIuMC9qcy9ib290c3RyYXAubWluLmpzIj48L3NjcmlwdD4KICAgIDxzY3JpcHQgc3JjPSJodHRwczovL2NkbmpzLmNsb3VkZmxhcmUuY29tL2FqYXgvbGlicy9MZWFmbGV0LmF3ZXNvbWUtbWFya2Vycy8yLjAuMi9sZWFmbGV0LmF3ZXNvbWUtbWFya2Vycy5qcyI+PC9zY3JpcHQ+CiAgICA8bGluayByZWw9InN0eWxlc2hlZXQiIGhyZWY9Imh0dHBzOi8vY2RuLmpzZGVsaXZyLm5ldC9ucG0vbGVhZmxldEAxLjUuMS9kaXN0L2xlYWZsZXQuY3NzIi8+CiAgICA8bGluayByZWw9InN0eWxlc2hlZXQiIGhyZWY9Imh0dHBzOi8vbWF4Y2RuLmJvb3RzdHJhcGNkbi5jb20vYm9vdHN0cmFwLzMuMi4wL2Nzcy9ib290c3RyYXAubWluLmNzcyIvPgogICAgPGxpbmsgcmVsPSJzdHlsZXNoZWV0IiBocmVmPSJodHRwczovL21heGNkbi5ib290c3RyYXBjZG4uY29tL2Jvb3RzdHJhcC8zLjIuMC9jc3MvYm9vdHN0cmFwLXRoZW1lLm1pbi5jc3MiLz4KICAgIDxsaW5rIHJlbD0ic3R5bGVzaGVldCIgaHJlZj0iaHR0cHM6Ly9tYXhjZG4uYm9vdHN0cmFwY2RuLmNvbS9mb250LWF3ZXNvbWUvNC42LjMvY3NzL2ZvbnQtYXdlc29tZS5taW4uY3NzIi8+CiAgICA8bGluayByZWw9InN0eWxlc2hlZXQiIGhyZWY9Imh0dHBzOi8vY2RuanMuY2xvdWRmbGFyZS5jb20vYWpheC9saWJzL0xlYWZsZXQuYXdlc29tZS1tYXJrZXJzLzIuMC4yL2xlYWZsZXQuYXdlc29tZS1tYXJrZXJzLmNzcyIvPgogICAgPGxpbmsgcmVsPSJzdHlsZXNoZWV0IiBocmVmPSJodHRwczovL3Jhd2Nkbi5naXRoYWNrLmNvbS9weXRob24tdmlzdWFsaXphdGlvbi9mb2xpdW0vbWFzdGVyL2ZvbGl1bS90ZW1wbGF0ZXMvbGVhZmxldC5hd2Vzb21lLnJvdGF0ZS5jc3MiLz4KICAgIDxzdHlsZT5odG1sLCBib2R5IHt3aWR0aDogMTAwJTtoZWlnaHQ6IDEwMCU7bWFyZ2luOiAwO3BhZGRpbmc6IDA7fTwvc3R5bGU+CiAgICA8c3R5bGU+I21hcCB7cG9zaXRpb246YWJzb2x1dGU7dG9wOjA7Ym90dG9tOjA7cmlnaHQ6MDtsZWZ0OjA7fTwvc3R5bGU+CiAgICAKICAgICAgICAgICAgPG1ldGEgbmFtZT0idmlld3BvcnQiIGNvbnRlbnQ9IndpZHRoPWRldmljZS13aWR0aCwKICAgICAgICAgICAgICAgIGluaXRpYWwtc2NhbGU9MS4wLCBtYXhpbXVtLXNjYWxlPTEuMCwgdXNlci1zY2FsYWJsZT1ubyIgLz4KICAgICAgICAgICAgPHN0eWxlPgogICAgICAgICAgICAgICAgI21hcF8zMmUyY2RjNGJhMzA0NmEzYWQxMmMyZGI3ZGJmODI1MyB7CiAgICAgICAgICAgICAgICAgICAgcG9zaXRpb246IHJlbGF0aXZlOwogICAgICAgICAgICAgICAgICAgIHdpZHRoOiAxMDAuMCU7CiAgICAgICAgICAgICAgICAgICAgaGVpZ2h0OiAxMDAuMCU7CiAgICAgICAgICAgICAgICAgICAgbGVmdDogMC4wJTsKICAgICAgICAgICAgICAgICAgICB0b3A6IDAuMCU7CiAgICAgICAgICAgICAgICB9CiAgICAgICAgICAgIDwvc3R5bGU+CiAgICAgICAgCiAgICA8c2NyaXB0IHNyYz0iaHR0cHM6Ly9jZG5qcy5jbG91ZGZsYXJlLmNvbS9hamF4L2xpYnMvbGVhZmxldC5tYXJrZXJjbHVzdGVyLzEuMS4wL2xlYWZsZXQubWFya2VyY2x1c3Rlci5qcyI+PC9zY3JpcHQ+CiAgICA8bGluayByZWw9InN0eWxlc2hlZXQiIGhyZWY9Imh0dHBzOi8vY2RuanMuY2xvdWRmbGFyZS5jb20vYWpheC9saWJzL2xlYWZsZXQubWFya2VyY2x1c3Rlci8xLjEuMC9NYXJrZXJDbHVzdGVyLmNzcyIvPgogICAgPGxpbmsgcmVsPSJzdHlsZXNoZWV0IiBocmVmPSJodHRwczovL2NkbmpzLmNsb3VkZmxhcmUuY29tL2FqYXgvbGlicy9sZWFmbGV0Lm1hcmtlcmNsdXN0ZXIvMS4xLjAvTWFya2VyQ2x1c3Rlci5EZWZhdWx0LmNzcyIvPgo8L2hlYWQ+Cjxib2R5PiAgICAKICAgIAogICAgICAgICAgICA8ZGl2IGNsYXNzPSJmb2xpdW0tbWFwIiBpZD0ibWFwXzMyZTJjZGM0YmEzMDQ2YTNhZDEyYzJkYjdkYmY4MjUzIiA+PC9kaXY+CiAgICAgICAgCjwvYm9keT4KPHNjcmlwdD4gICAgCiAgICAKICAgICAgICAgICAgdmFyIG1hcF8zMmUyY2RjNGJhMzA0NmEzYWQxMmMyZGI3ZGJmODI1MyA9IEwubWFwKAogICAgICAgICAgICAgICAgIm1hcF8zMmUyY2RjNGJhMzA0NmEzYWQxMmMyZGI3ZGJmODI1MyIsCiAgICAgICAgICAgICAgICB7CiAgICAgICAgICAgICAgICAgICAgY2VudGVyOiBbNTEuOCwgNy4wXSwKICAgICAgICAgICAgICAgICAgICBjcnM6IEwuQ1JTLkVQU0czODU3LAogICAgICAgICAgICAgICAgICAgIHpvb206IDgsCiAgICAgICAgICAgICAgICAgICAgem9vbUNvbnRyb2w6IHRydWUsCiAgICAgICAgICAgICAgICAgICAgcHJlZmVyQ2FudmFzOiBmYWxzZSwKICAgICAgICAgICAgICAgIH0KICAgICAgICAgICAgKTsKCiAgICAgICAgICAgIAoKICAgICAgICAKICAgIAogICAgICAgICAgICB2YXIgdGlsZV9sYXllcl8wODU5NWQ2YzQ1NDY0YjAyOTI0YmE0ZjFkNDZmNmVjYiA9IEwudGlsZUxheWVyKAogICAgICAgICAgICAgICAgImh0dHBzOi8ve3N9LnRpbGUub3BlbnN0cmVldG1hcC5vcmcve3p9L3t4fS97eX0ucG5nIiwKICAgICAgICAgICAgICAgIHsiYXR0cmlidXRpb24iOiAiRGF0YSBieSBcdTAwMjZjb3B5OyBcdTAwM2NhIGhyZWY9XCJodHRwOi8vb3BlbnN0cmVldG1hcC5vcmdcIlx1MDAzZU9wZW5TdHJlZXRNYXBcdTAwM2MvYVx1MDAzZSwgdW5kZXIgXHUwMDNjYSBocmVmPVwiaHR0cDovL3d3dy5vcGVuc3RyZWV0bWFwLm9yZy9jb3B5cmlnaHRcIlx1MDAzZU9EYkxcdTAwM2MvYVx1MDAzZS4iLCAiZGV0ZWN0UmV0aW5hIjogZmFsc2UsICJtYXhOYXRpdmVab29tIjogMTgsICJtYXhab29tIjogMTgsICJtaW5ab29tIjogMCwgIm5vV3JhcCI6IGZhbHNlLCAib3BhY2l0eSI6IDEsICJzdWJkb21haW5zIjogImFiYyIsICJ0bXMiOiBmYWxzZX0KICAgICAgICAgICAgKS5hZGRUbyhtYXBfMzJlMmNkYzRiYTMwNDZhM2FkMTJjMmRiN2RiZjgyNTMpOwogICAgICAgIAogICAgCiAgICAgICAgICAgIHZhciBtYXJrZXJfY2x1c3Rlcl80ODlhYjZiNDBiMDY0YzBkODMwNGI5YTlhNDU0YmFkNSA9IEwubWFya2VyQ2x1c3Rlckdyb3VwKAogICAgICAgICAgICAgICAge30KICAgICAgICAgICAgKTsKICAgICAgICAgICAgbWFwXzMyZTJjZGM0YmEzMDQ2YTNhZDEyYzJkYjdkYmY4MjUzLmFkZExheWVyKG1hcmtlcl9jbHVzdGVyXzQ4OWFiNmI0MGIwNjRjMGQ4MzA0YjlhOWE0NTRiYWQ1KTsKICAgICAgICAKICAgIAogICAgICAgICAgICB2YXIgbWFya2VyXzA0ZmY4OTBiNjdjZjQ1ZDFiZGNmODE2OGZkMGZlM2IzID0gTC5tYXJrZXIoCiAgICAgICAgICAgICAgICBbNTEuOTQ5MTcyOTczNjMzMDA0LCA3Ljk4Nzg2NDAxNzQ4NjZdLAogICAgICAgICAgICAgICAge30KICAgICAgICAgICAgKS5hZGRUbyhtYXJrZXJfY2x1c3Rlcl80ODlhYjZiNDBiMDY0YzBkODMwNGI5YTlhNDU0YmFkNSk7CiAgICAgICAgCiAgICAKICAgICAgICB2YXIgcG9wdXBfZjE3OGVkODcyMTJmNDU1Zjg3N2E1ZTMzZGExODMzZmQgPSBMLnBvcHVwKHsibWF4V2lkdGgiOiAiMTAwJSJ9KTsKCiAgICAgICAgCiAgICAgICAgICAgIHZhciBodG1sX2FjN2U4MDYxYTI1MzRjNjRhY2U4YmFkN2VlY2U3MmIyID0gJChgPGRpdiBpZD0iaHRtbF9hYzdlODA2MWEyNTM0YzY0YWNlOGJhZDdlZWNlNzJiMiIgc3R5bGU9IndpZHRoOiAxMDAuMCU7IGhlaWdodDogMTAwLjAlOyI+Y2gtdGFuazwvZGl2PmApWzBdOwogICAgICAgICAgICBwb3B1cF9mMTc4ZWQ4NzIxMmY0NTVmODc3YTVlMzNkYTE4MzNmZC5zZXRDb250ZW50KGh0bWxfYWM3ZTgwNjFhMjUzNGM2NGFjZThiYWQ3ZWVjZTcyYjIpOwogICAgICAgIAoKICAgICAgICBtYXJrZXJfMDRmZjg5MGI2N2NmNDVkMWJkY2Y4MTY4ZmQwZmUzYjMuYmluZFBvcHVwKHBvcHVwX2YxNzhlZDg3MjEyZjQ1NWY4NzdhNWUzM2RhMTgzM2ZkKQogICAgICAgIDsKCiAgICAgICAgCiAgICAKICAgIAogICAgICAgICAgICB2YXIgbWFya2VyXzVkOGU4OTNkN2U0MDRiZGI5NGM5ZDVhMWM4ZDc0NzllID0gTC5tYXJrZXIoCiAgICAgICAgICAgICAgICBbNTEuMTc2MjYsIDYuOTM4ODFdLAogICAgICAgICAgICAgICAge30KICAgICAgICAgICAgKS5hZGRUbyhtYXJrZXJfY2x1c3Rlcl80ODlhYjZiNDBiMDY0YzBkODMwNGI5YTlhNDU0YmFkNSk7CiAgICAgICAgCiAgICAKICAgICAgICB2YXIgcG9wdXBfYTNlMjgyNmY2NzgzNDJhODlhODQ0NjJhNjQ2ZWU3OWIgPSBMLnBvcHVwKHsibWF4V2lkdGgiOiAiMTAwJSJ9KTsKCiAgICAgICAgCiAgICAgICAgICAgIHZhciBodG1sXzQyNjk1N2JkYjY3YzRiOGM5YTliYzE1MDI5NjY5MmE2ID0gJChgPGRpdiBpZD0iaHRtbF80MjY5NTdiZGI2N2M0YjhjOWE5YmMxNTAyOTY2OTJhNiIgc3R5bGU9IndpZHRoOiAxMDAuMCU7IGhlaWdodDogMTAwLjAlOyI+U1RBUjwvZGl2PmApWzBdOwogICAgICAgICAgICBwb3B1cF9hM2UyODI2ZjY3ODM0MmE4OWE4NDQ2MmE2NDZlZTc5Yi5zZXRDb250ZW50KGh0bWxfNDI2OTU3YmRiNjdjNGI4YzlhOWJjMTUwMjk2NjkyYTYpOwogICAgICAgIAoKICAgICAgICBtYXJrZXJfNWQ4ZTg5M2Q3ZTQwNGJkYjk0YzlkNWExYzhkNzQ3OWUuYmluZFBvcHVwKHBvcHVwX2EzZTI4MjZmNjc4MzQyYTg5YTg0NDYyYTY0NmVlNzliKQogICAgICAgIDsKCiAgICAgICAgCiAgICAKICAgIAogICAgICAgICAgICB2YXIgbWFya2VyX2MxMjJkZGRiMDBjYjQ2ZGFhNjVkN2Q1MGFmMzNkNmQ0ID0gTC5tYXJrZXIoCiAgICAgICAgICAgICAgICBbNTEuMzk4MDMsIDYuODc1NDg5OTk5OTk5OTk5XSwKICAgICAgICAgICAgICAgIHt9CiAgICAgICAgICAgICkuYWRkVG8obWFya2VyX2NsdXN0ZXJfNDg5YWI2YjQwYjA2NGMwZDgzMDRiOWE5YTQ1NGJhZDUpOwogICAgICAgIAogICAgCiAgICAgICAgdmFyIHBvcHVwXzQ1ZTM5ZDgyNGRhNTQ1YzY4NWE3YjUyOWNlMTY3ZDZkID0gTC5wb3B1cCh7Im1heFdpZHRoIjogIjEwMCUifSk7CgogICAgICAgIAogICAgICAgICAgICB2YXIgaHRtbF82YTUxMDk0YjdhYTU0MTc4YjA1MWM0ODZmZjZmMTI2OSA9ICQoYDxkaXYgaWQ9Imh0bWxfNmE1MTA5NGI3YWE1NDE3OGIwNTFjNDg2ZmY2ZjEyNjkiIHN0eWxlPSJ3aWR0aDogMTAwLjAlOyBoZWlnaHQ6IDEwMC4wJTsiPlNUQVI8L2Rpdj5gKVswXTsKICAgICAgICAgICAgcG9wdXBfNDVlMzlkODI0ZGE1NDVjNjg1YTdiNTI5Y2UxNjdkNmQuc2V0Q29udGVudChodG1sXzZhNTEwOTRiN2FhNTQxNzhiMDUxYzQ4NmZmNmYxMjY5KTsKICAgICAgICAKCiAgICAgICAgbWFya2VyX2MxMjJkZGRiMDBjYjQ2ZGFhNjVkN2Q1MGFmMzNkNmQ0LmJpbmRQb3B1cChwb3B1cF80NWUzOWQ4MjRkYTU0NWM2ODVhN2I1MjljZTE2N2Q2ZCkKICAgICAgICA7CgogICAgICAgIAogICAgCiAgICAKICAgICAgICAgICAgdmFyIG1hcmtlcl9mZjQ4YjFmNDUxMTg0OTQ3OWVmZWRkNmZjZmI5MzM1MCA9IEwubWFya2VyKAogICAgICAgICAgICAgICAgWzUxLjQ3NzQ4NTcsIDcuMjI3NzY3XSwKICAgICAgICAgICAgICAgIHt9CiAgICAgICAgICAgICkuYWRkVG8obWFya2VyX2NsdXN0ZXJfNDg5YWI2YjQwYjA2NGMwZDgzMDRiOWE5YTQ1NGJhZDUpOwogICAgICAgIAogICAgCiAgICAgICAgdmFyIHBvcHVwXzdkYmYzODNlYjhiZjQ5NjE5NGE2NjE1NjZjNGQ4OGU0ID0gTC5wb3B1cCh7Im1heFdpZHRoIjogIjEwMCUifSk7CgogICAgICAgIAogICAgICAgICAgICB2YXIgaHRtbF9mOWMxYzA4YWVjN2Y0NzA5YTNkZTk2MTZkZTFmNDJhMSA9ICQoYDxkaXYgaWQ9Imh0bWxfZjljMWMwOGFlYzdmNDcwOWEzZGU5NjE2ZGUxZjQyYTEiIHN0eWxlPSJ3aWR0aDogMTAwLjAlOyBoZWlnaHQ6IDEwMC4wJTsiPkFSQUw8L2Rpdj5gKVswXTsKICAgICAgICAgICAgcG9wdXBfN2RiZjM4M2ViOGJmNDk2MTk0YTY2MTU2NmM0ZDg4ZTQuc2V0Q29udGVudChodG1sX2Y5YzFjMDhhZWM3ZjQ3MDlhM2RlOTYxNmRlMWY0MmExKTsKICAgICAgICAKCiAgICAgICAgbWFya2VyX2ZmNDhiMWY0NTExODQ5NDc5ZWZlZGQ2ZmNmYjkzMzUwLmJpbmRQb3B1cChwb3B1cF83ZGJmMzgzZWI4YmY0OTYxOTRhNjYxNTY2YzRkODhlNCkKICAgICAgICA7CgogICAgICAgIAogICAgCiAgICAKICAgICAgICAgICAgdmFyIG1hcmtlcl81ZjhiMTVjYzgyYmI0YzNlYTllYjE1YTA2OTI1MWI0NSA9IEwubWFya2VyKAogICAgICAgICAgICAgICAgWzUxLjk4NTcsIDYuOTA4OTMwMDAwMDAwMDAxXSwKICAgICAgICAgICAgICAgIHt9CiAgICAgICAgICAgICkuYWRkVG8obWFya2VyX2NsdXN0ZXJfNDg5YWI2YjQwYjA2NGMwZDgzMDRiOWE5YTQ1NGJhZDUpOwogICAgICAgIAogICAgCiAgICAgICAgdmFyIHBvcHVwX2Q0MzAyMDM3NzAyOTRlNTI5YTQ2ZWMzZjNjOTA0YmJmID0gTC5wb3B1cCh7Im1heFdpZHRoIjogIjEwMCUifSk7CgogICAgICAgIAogICAgICAgICAgICB2YXIgaHRtbF85MWUxZGMyM2VmMmQ0NTRmYTFhNmViMjczMmZlNmQyYSA9ICQoYDxkaXYgaWQ9Imh0bWxfOTFlMWRjMjNlZjJkNDU0ZmExYTZlYjI3MzJmZTZkMmEiIHN0eWxlPSJ3aWR0aDogMTAwLjAlOyBoZWlnaHQ6IDEwMC4wJTsiPkZyZWllIFRhbmtzdGVsbGU8L2Rpdj5gKVswXTsKICAgICAgICAgICAgcG9wdXBfZDQzMDIwMzc3MDI5NGU1MjlhNDZlYzNmM2M5MDRiYmYuc2V0Q29udGVudChodG1sXzkxZTFkYzIzZWYyZDQ1NGZhMWE2ZWIyNzMyZmU2ZDJhKTsKICAgICAgICAKCiAgICAgICAgbWFya2VyXzVmOGIxNWNjODJiYjRjM2VhOWViMTVhMDY5MjUxYjQ1LmJpbmRQb3B1cChwb3B1cF9kNDMwMjAzNzcwMjk0ZTUyOWE0NmVjM2YzYzkwNGJiZikKICAgICAgICA7CgogICAgICAgIAogICAgCiAgICAKICAgICAgICAgICAgdmFyIG1hcmtlcl85NTA1NTIxYjIxNWQ0NjQ1YmQzNjJlZDM0ZGQ3YmQ0OCA9IEwubWFya2VyKAogICAgICAgICAgICAgICAgWzUxLjkzMTczNiwgNy42MjY4NzQwMDAwMDAwMDFdLAogICAgICAgICAgICAgICAge30KICAgICAgICAgICAgKS5hZGRUbyhtYXJrZXJfY2x1c3Rlcl80ODlhYjZiNDBiMDY0YzBkODMwNGI5YTlhNDU0YmFkNSk7CiAgICAgICAgCiAgICAKICAgICAgICB2YXIgcG9wdXBfNGU3NGQ1OGI0NzZmNDRlY2JlMDI4MTJmODViNTM5MDcgPSBMLnBvcHVwKHsibWF4V2lkdGgiOiAiMTAwJSJ9KTsKCiAgICAgICAgCiAgICAgICAgICAgIHZhciBodG1sXzhjNmQxOGM5ZjFkNDRmYTM5M2UwNmZlY2UwYTk0NWY0ID0gJChgPGRpdiBpZD0iaHRtbF84YzZkMThjOWYxZDQ0ZmEzOTNlMDZmZWNlMGE5NDVmNCIgc3R5bGU9IndpZHRoOiAxMDAuMCU7IGhlaWdodDogMTAwLjAlOyI+QVJBTDwvZGl2PmApWzBdOwogICAgICAgICAgICBwb3B1cF80ZTc0ZDU4YjQ3NmY0NGVjYmUwMjgxMmY4NWI1MzkwNy5zZXRDb250ZW50KGh0bWxfOGM2ZDE4YzlmMWQ0NGZhMzkzZTA2ZmVjZTBhOTQ1ZjQpOwogICAgICAgIAoKICAgICAgICBtYXJrZXJfOTUwNTUyMWIyMTVkNDY0NWJkMzYyZWQzNGRkN2JkNDguYmluZFBvcHVwKHBvcHVwXzRlNzRkNThiNDc2ZjQ0ZWNiZTAyODEyZjg1YjUzOTA3KQogICAgICAgIDsKCiAgICAgICAgCiAgICAKICAgIAogICAgICAgICAgICB2YXIgbWFya2VyXzUxNzI5OGY0ZmYyNjRiYjc5YmMxNDg3ZWYzNGFmMTViID0gTC5tYXJrZXIoCiAgICAgICAgICAgICAgICBbNTEuMzIxNzMsIDYuNTc2MThdLAogICAgICAgICAgICAgICAge30KICAgICAgICAgICAgKS5hZGRUbyhtYXJrZXJfY2x1c3Rlcl80ODlhYjZiNDBiMDY0YzBkODMwNGI5YTlhNDU0YmFkNSk7CiAgICAgICAgCiAgICAKICAgICAgICB2YXIgcG9wdXBfNGU1YTFkOTEyM2YxNDE5NDkyZWVjYzBiMWE2ZmYyOGYgPSBMLnBvcHVwKHsibWF4V2lkdGgiOiAiMTAwJSJ9KTsKCiAgICAgICAgCiAgICAgICAgICAgIHZhciBodG1sXzc5ZTFjMDc5NmViNTQwYTQ5ZDdkOGExYTJmZWZjYzcwID0gJChgPGRpdiBpZD0iaHRtbF83OWUxYzA3OTZlYjU0MGE0OWQ3ZDhhMWEyZmVmY2M3MCIgc3R5bGU9IndpZHRoOiAxMDAuMCU7IGhlaWdodDogMTAwLjAlOyI+RnJlaWU8L2Rpdj5gKVswXTsKICAgICAgICAgICAgcG9wdXBfNGU1YTFkOTEyM2YxNDE5NDkyZWVjYzBiMWE2ZmYyOGYuc2V0Q29udGVudChodG1sXzc5ZTFjMDc5NmViNTQwYTQ5ZDdkOGExYTJmZWZjYzcwKTsKICAgICAgICAKCiAgICAgICAgbWFya2VyXzUxNzI5OGY0ZmYyNjRiYjc5YmMxNDg3ZWYzNGFmMTViLmJpbmRQb3B1cChwb3B1cF80ZTVhMWQ5MTIzZjE0MTk0OTJlZWNjMGIxYTZmZjI4ZikKICAgICAgICA7CgogICAgICAgIAogICAgCiAgICAKICAgICAgICAgICAgdmFyIG1hcmtlcl9kZDNjZjk5MTJhMzg0NDMwYWExMGVmMThjYjFiZGZjNCA9IEwubWFya2VyKAogICAgICAgICAgICAgICAgWzUyLjEzODY4LCA4LjE0NjY4OV0sCiAgICAgICAgICAgICAgICB7fQogICAgICAgICAgICApLmFkZFRvKG1hcmtlcl9jbHVzdGVyXzQ4OWFiNmI0MGIwNjRjMGQ4MzA0YjlhOWE0NTRiYWQ1KTsKICAgICAgICAKICAgIAogICAgICAgIHZhciBwb3B1cF81ZGIxMzkwMmU1MjY0MzQzYTM5MDdiOTVkYjExMWZhMyA9IEwucG9wdXAoeyJtYXhXaWR0aCI6ICIxMDAlIn0pOwoKICAgICAgICAKICAgICAgICAgICAgdmFyIGh0bWxfZjdmY2JjYjYxN2I1NDIxZTk1YTc2NWVlMjNhZGRhMTIgPSAkKGA8ZGl2IGlkPSJodG1sX2Y3ZmNiY2I2MTdiNTQyMWU5NWE3NjVlZTIzYWRkYTEyIiBzdHlsZT0id2lkdGg6IDEwMC4wJTsgaGVpZ2h0OiAxMDAuMCU7Ij5UYW5rY2VudGVyPC9kaXY+YClbMF07CiAgICAgICAgICAgIHBvcHVwXzVkYjEzOTAyZTUyNjQzNDNhMzkwN2I5NWRiMTExZmEzLnNldENvbnRlbnQoaHRtbF9mN2ZjYmNiNjE3YjU0MjFlOTVhNzY1ZWUyM2FkZGExMik7CiAgICAgICAgCgogICAgICAgIG1hcmtlcl9kZDNjZjk5MTJhMzg0NDMwYWExMGVmMThjYjFiZGZjNC5iaW5kUG9wdXAocG9wdXBfNWRiMTM5MDJlNTI2NDM0M2EzOTA3Yjk1ZGIxMTFmYTMpCiAgICAgICAgOwoKICAgICAgICAKICAgIAogICAgCiAgICAgICAgICAgIHZhciBtYXJrZXJfYTYyMmY3Nzc1NWExNGQ3NTk2YmIzZmE2OWM3YWI0ZWYgPSBMLm1hcmtlcigKICAgICAgICAgICAgICAgIFs1Mi40ODI5LCA3LjIxNzk2OTk5OTk5OTk5OV0sCiAgICAgICAgICAgICAgICB7fQogICAgICAgICAgICApLmFkZFRvKG1hcmtlcl9jbHVzdGVyXzQ4OWFiNmI0MGIwNjRjMGQ4MzA0YjlhOWE0NTRiYWQ1KTsKICAgICAgICAKICAgIAogICAgICAgIHZhciBwb3B1cF9hZWFhNjNkNzYxZTI0YjRkOWY2NmIxNDYwMzQ5YjA4MyA9IEwucG9wdXAoeyJtYXhXaWR0aCI6ICIxMDAlIn0pOwoKICAgICAgICAKICAgICAgICAgICAgdmFyIGh0bWxfNWM5OWE2MmQ4N2ZlNGVjOGJlOTkzM2EyNjllZjRmMWMgPSAkKGA8ZGl2IGlkPSJodG1sXzVjOTlhNjJkODdmZTRlYzhiZTk5MzNhMjY5ZWY0ZjFjIiBzdHlsZT0id2lkdGg6IDEwMC4wJTsgaGVpZ2h0OiAxMDAuMCU7Ij5SYWlmZmVpc2VuPC9kaXY+YClbMF07CiAgICAgICAgICAgIHBvcHVwX2FlYWE2M2Q3NjFlMjRiNGQ5ZjY2YjE0NjAzNDliMDgzLnNldENvbnRlbnQoaHRtbF81Yzk5YTYyZDg3ZmU0ZWM4YmU5OTMzYTI2OWVmNGYxYyk7CiAgICAgICAgCgogICAgICAgIG1hcmtlcl9hNjIyZjc3NzU1YTE0ZDc1OTZiYjNmYTY5YzdhYjRlZi5iaW5kUG9wdXAocG9wdXBfYWVhYTYzZDc2MWUyNGI0ZDlmNjZiMTQ2MDM0OWIwODMpCiAgICAgICAgOwoKICAgICAgICAKICAgIAogICAgCiAgICAgICAgICAgIHZhciBtYXJrZXJfZDNkNzQxZjNjNzJkNGNjY2E1ZjIxN2VlNTIwOGFjZjYgPSBMLm1hcmtlcigKICAgICAgICAgICAgICAgIFs1MS45Nzc1NywgNy42MDA0M10sCiAgICAgICAgICAgICAgICB7fQogICAgICAgICAgICApLmFkZFRvKG1hcmtlcl9jbHVzdGVyXzQ4OWFiNmI0MGIwNjRjMGQ4MzA0YjlhOWE0NTRiYWQ1KTsKICAgICAgICAKICAgIAogICAgICAgIHZhciBwb3B1cF9mN2MxMjJlODJlY2U0Y2UzYjBjYWMwODk3OTRhYjEyZSA9IEwucG9wdXAoeyJtYXhXaWR0aCI6ICIxMDAlIn0pOwoKICAgICAgICAKICAgICAgICAgICAgdmFyIGh0bWxfNjgwN2EyOTZiMWUxNGZkNDk0ZWYzMWI4NTFiNTlmNjkgPSAkKGA8ZGl2IGlkPSJodG1sXzY4MDdhMjk2YjFlMTRmZDQ5NGVmMzFiODUxYjU5ZjY5IiBzdHlsZT0id2lkdGg6IDEwMC4wJTsgaGVpZ2h0OiAxMDAuMCU7Ij5XZXN0ZmFsZW48L2Rpdj5gKVswXTsKICAgICAgICAgICAgcG9wdXBfZjdjMTIyZTgyZWNlNGNlM2IwY2FjMDg5Nzk0YWIxMmUuc2V0Q29udGVudChodG1sXzY4MDdhMjk2YjFlMTRmZDQ5NGVmMzFiODUxYjU5ZjY5KTsKICAgICAgICAKCiAgICAgICAgbWFya2VyX2QzZDc0MWYzYzcyZDRjY2NhNWYyMTdlZTUyMDhhY2Y2LmJpbmRQb3B1cChwb3B1cF9mN2MxMjJlODJlY2U0Y2UzYjBjYWMwODk3OTRhYjEyZSkKICAgICAgICA7CgogICAgICAgIAogICAgCjwvc2NyaXB0Pg==\" style=\"position:absolute;width:100%;height:100%;left:0;top:0;border:none !important;\" allowfullscreen webkitallowfullscreen mozallowfullscreen></iframe></div></div>"
      ],
      "text/plain": [
       "<folium.folium.Map at 0x7f9daead7110>"
      ]
     },
     "execution_count": 12,
     "metadata": {},
     "output_type": "execute_result"
    }
   ],
   "source": [
    "#define the NRW map\n",
    "latitude = 51.8\n",
    "longitude = 7\n",
    "nrw_map = folium.Map(location=[latitude, longitude], zoom_start=8)\n",
    "\n",
    "# instantiate a mark cluster object for the gas stations in the dataframe\n",
    "gas_stations = plugins.MarkerCluster().add_to(nrw_map)\n",
    "\n",
    "# loop through the dataframe and add each data point to the mark cluster\n",
    "for lat, lng, label in zip(gs_latitudes, gs_longitudes, gs_labels):\n",
    "    folium.Marker(\n",
    "        location=[lat, lng],\n",
    "        icon=None,\n",
    "        popup=label,\n",
    "    ).add_to(gas_stations)\n",
    "\n",
    "nrw_map"
   ]
  },
  {
   "cell_type": "code",
   "execution_count": null,
   "metadata": {},
   "outputs": [],
   "source": []
  }
 ],
 "metadata": {
  "kernelspec": {
   "display_name": "data_science",
   "language": "python",
   "name": "data_science"
  },
  "language_info": {
   "codemirror_mode": {
    "name": "ipython",
    "version": 3
   },
   "file_extension": ".py",
   "mimetype": "text/x-python",
   "name": "python",
   "nbconvert_exporter": "python",
   "pygments_lexer": "ipython3",
   "version": "3.7.5"
  }
 },
 "nbformat": 4,
 "nbformat_minor": 4
}
