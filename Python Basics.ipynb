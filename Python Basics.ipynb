{
 "cells": [
  {
   "cell_type": "markdown",
   "metadata": {},
   "source": [
    "# Python Basics"
   ]
  },
  {
   "cell_type": "markdown",
   "metadata": {},
   "source": [
    "In this Notebook I am collecting various basics that I discover during my learning process in Process. It helps me to efficiently lookup syntaxes I have previously used.  \n",
    "It might serve any other newcomer to Python as well.  \n",
    "\n",
    "To find collections of interesting Notebooks on various topics, search google for \"Jupyter Notebook Data Visualization Python\"  \n",
    "\n",
    "One example: https://github.com/jupyter/jupyter/wiki/A-gallery-of-interesting-Jupyter-Notebooks"
   ]
  },
  {
   "cell_type": "code",
   "execution_count": 2,
   "metadata": {},
   "outputs": [],
   "source": [
    "import pandas as pd"
   ]
  },
  {
   "cell_type": "markdown",
   "metadata": {},
   "source": [
    "## Markdowns"
   ]
  },
  {
   "cell_type": "markdown",
   "metadata": {},
   "source": [
    "IBM Cheatsheet: __[click here](https://www.ibm.com/support/knowledgecenter/en/SSGNPV_1.1.3/dsx/markd-jupyter.html)__\n",
    "\n",
    "GitHub Cheatsheet: __[click here](https://github.com/adam-p/markdown-here/wiki/Markdown-Cheatsheet)__"
   ]
  },
  {
   "cell_type": "markdown",
   "metadata": {},
   "source": [
    "## Strings"
   ]
  },
  {
   "cell_type": "markdown",
   "metadata": {},
   "source": [
    "### Printing numbers and adjusting the # of decimals"
   ]
  },
  {
   "cell_type": "code",
   "execution_count": 6,
   "metadata": {},
   "outputs": [
    {
     "name": "stdout",
     "output_type": "stream",
     "text": [
      "12.24\n"
     ]
    }
   ],
   "source": [
    "print(\"{:.2f}\".format(12.2423))"
   ]
  },
  {
   "cell_type": "markdown",
   "metadata": {},
   "source": [
    "### Printing information left-/right-adjusted with specific column width"
   ]
  },
  {
   "cell_type": "code",
   "execution_count": 7,
   "metadata": {},
   "outputs": [
    {
     "name": "stdout",
     "output_type": "stream",
     "text": [
      "A    \t    3\t         5\n",
      "B    \t    4\t         5\n",
      "C    \t    5\t         5\n"
     ]
    }
   ],
   "source": [
    "example_str_adjust = pd.DataFrame({\"A\": [1,1,1,4,5], \"B\": [3,4,5,5,6], \"C\":[7,3,6,2,5]})\n",
    "\n",
    "cat_col = [\"A\", \"B\", \"C\"]\n",
    "\n",
    "for col in cat_col:\n",
    "    print(col.ljust(5), str(example_str_adjust[col].nunique()).rjust(5), str(example_str_adjust[col].count()).rjust(10), sep=\"\\t\")"
   ]
  },
  {
   "cell_type": "markdown",
   "metadata": {},
   "source": [
    "## Dictionaries"
   ]
  },
  {
   "cell_type": "markdown",
   "metadata": {},
   "source": [
    "### Iterations"
   ]
  },
  {
   "cell_type": "code",
   "execution_count": 1,
   "metadata": {},
   "outputs": [],
   "source": [
    "dict = {\"A\": [1,2,3], \"B\": [4,5,6], \"C\": [7,8,9]}"
   ]
  },
  {
   "cell_type": "code",
   "execution_count": 2,
   "metadata": {},
   "outputs": [
    {
     "name": "stdout",
     "output_type": "stream",
     "text": [
      "A\n",
      "B\n",
      "C\n"
     ]
    }
   ],
   "source": [
    "for i, value in dict.items():\n",
    "    print(i + \"\")"
   ]
  },
  {
   "cell_type": "markdown",
   "metadata": {},
   "source": [
    "## Types "
   ]
  },
  {
   "cell_type": "markdown",
   "metadata": {},
   "source": [
    "### General"
   ]
  },
  {
   "cell_type": "markdown",
   "metadata": {},
   "source": [
    "How to identify the type of a variable"
   ]
  },
  {
   "cell_type": "code",
   "execution_count": null,
   "metadata": {},
   "outputs": [],
   "source": [
    "test = \"Das ist ein Test\"\n",
    "test2 = 1234\n",
    "test3 = \"1234\"\n",
    "\n",
    "print(type(test))\n",
    "print(type(test2))\n",
    "print(type(test3))"
   ]
  },
  {
   "cell_type": "markdown",
   "metadata": {},
   "source": [
    "### Using Types in if statements"
   ]
  },
  {
   "cell_type": "code",
   "execution_count": null,
   "metadata": {},
   "outputs": [],
   "source": [
    "if isinstance(test, str):\n",
    "    print(\"\\\"\" + test + \"\\\"\" + \" is a string\")\n",
    "else:\n",
    "    print(\"\\\"\" + test + \"\\\"\" + \" is not a string\")\n",
    "        \n",
    "if isinstance(test2, int):\n",
    "    print(str(test2) + \" is an int\")\n",
    "else:\n",
    "    print(str(test2) + \" is not an int\")"
   ]
  },
  {
   "cell_type": "markdown",
   "metadata": {},
   "source": [
    "## Jupyter Magic Commands"
   ]
  },
  {
   "cell_type": "code",
   "execution_count": null,
   "metadata": {},
   "outputs": [],
   "source": [
    "%run get_missing.py\n",
    "\n",
    "## alternatively write %load get_missing.py to show also quote here"
   ]
  },
  {
   "cell_type": "code",
   "execution_count": null,
   "metadata": {},
   "outputs": [],
   "source": [
    "%whos # jupyter built-in magic commands start with %"
   ]
  }
 ],
 "metadata": {
  "kernelspec": {
   "display_name": "Python 3",
   "language": "python",
   "name": "python3"
  },
  "language_info": {
   "codemirror_mode": {
    "name": "ipython",
    "version": 3
   },
   "file_extension": ".py",
   "mimetype": "text/x-python",
   "name": "python",
   "nbconvert_exporter": "python",
   "pygments_lexer": "ipython3",
   "version": "3.7.4"
  }
 },
 "nbformat": 4,
 "nbformat_minor": 4
}
