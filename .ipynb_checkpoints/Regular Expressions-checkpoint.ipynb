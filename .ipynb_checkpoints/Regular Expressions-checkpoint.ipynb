{
 "cells": [
  {
   "cell_type": "markdown",
   "metadata": {
    "toc-hr-collapsed": false
   },
   "source": [
    "# Learnings for module re (Regular Expressions)\n",
    "\n",
    "To build and test regular expressions outside of Jupyter, see:\n",
    "www.regexr.com"
   ]
  },
  {
   "cell_type": "code",
   "execution_count": 1,
   "metadata": {},
   "outputs": [],
   "source": [
    "import re"
   ]
  },
  {
   "cell_type": "markdown",
   "metadata": {},
   "source": [
    "## Methods and how to apply"
   ]
  },
  {
   "cell_type": "markdown",
   "metadata": {},
   "source": [
    "findall = Returns only items that mach to regex\n",
    "search = Returns position of first mach to regex"
   ]
  },
  {
   "cell_type": "markdown",
   "metadata": {},
   "source": [
    "### Using re.compile to set variable and apply regex to strings"
   ]
  },
  {
   "cell_type": "code",
   "execution_count": 2,
   "metadata": {},
   "outputs": [],
   "source": [
    "test_string = \"1244 Das ist EIN T42dst mit regexxxxxxxxxxxxxx 1234567\""
   ]
  },
  {
   "cell_type": "code",
   "execution_count": 3,
   "metadata": {},
   "outputs": [
    {
     "data": {
      "text/plain": [
       "['1244', '1234567']"
      ]
     },
     "execution_count": 3,
     "metadata": {},
     "output_type": "execute_result"
    }
   ],
   "source": [
    "my_regex = re.compile(r\"\\b[0-9]+\\b\")\n",
    "my_regex.findall(test_string)"
   ]
  },
  {
   "cell_type": "markdown",
   "metadata": {},
   "source": [
    "### Using re.method to apply regex to string"
   ]
  },
  {
   "cell_type": "code",
   "execution_count": 12,
   "metadata": {},
   "outputs": [
    {
     "data": {
      "text/plain": [
       "['1244', '1234567']"
      ]
     },
     "execution_count": 12,
     "metadata": {},
     "output_type": "execute_result"
    }
   ],
   "source": [
    "re.findall(r\"\\b[0-9]+\\b\", test_string)"
   ]
  },
  {
   "cell_type": "markdown",
   "metadata": {},
   "source": [
    "### Implementing a variable into a regex"
   ]
  },
  {
   "cell_type": "code",
   "execution_count": 5,
   "metadata": {},
   "outputs": [
    {
     "data": {
      "text/plain": [
       "['1244', '1234567']"
      ]
     },
     "execution_count": 5,
     "metadata": {},
     "output_type": "execute_result"
    }
   ],
   "source": [
    "numbers = \"0-9\"\n",
    "my_variable_regex = r\"\\b[{0}]+\\b\".format(numbers)\n",
    "re.findall(my_variable_regex, test_string)"
   ]
  },
  {
   "cell_type": "code",
   "execution_count": 6,
   "metadata": {},
   "outputs": [
    {
     "data": {
      "text/plain": [
       "['Das', 'ist', 'EIN', 'mit', 'regexxxxxxxxxxxxxx']"
      ]
     },
     "execution_count": 6,
     "metadata": {},
     "output_type": "execute_result"
    }
   ],
   "source": [
    "letters = \"A-Za-zÄÖÜäöü\"\n",
    "my_variable_regex = r\"\\b[{0}]+\\b\".format(letters)\n",
    "re.findall(my_variable_regex, test_string)"
   ]
  },
  {
   "cell_type": "markdown",
   "metadata": {},
   "source": [
    "The above syntax to implement a variable might not work in all cases, for example when the variable is used in side a {}"
   ]
  },
  {
   "cell_type": "code",
   "execution_count": 13,
   "metadata": {},
   "outputs": [
    {
     "data": {
      "text/plain": [
       "['1234567']"
      ]
     },
     "execution_count": 13,
     "metadata": {},
     "output_type": "execute_result"
    }
   ],
   "source": [
    "min_length = \"5\"\n",
    "my_variable_regex = r\"\\b[0-9]{\" + re.escape(str(min_length)) + r\",}\\b\"\n",
    "re.findall(my_variable_regex, test_string)"
   ]
  },
  {
   "cell_type": "markdown",
   "metadata": {},
   "source": [
    "## Examples"
   ]
  },
  {
   "cell_type": "markdown",
   "metadata": {},
   "source": [
    "### Filter \"words\" consisting only of numbers\n",
    "\\b describes the boundary (beginning or and) of a word. If this is used, a raw string (r\"\") has to be used. Otherwise \\b will not be interpreted correctly."
   ]
  },
  {
   "cell_type": "code",
   "execution_count": null,
   "metadata": {},
   "outputs": [],
   "source": [
    "result = re.findall(r\"\\b[0-9]+\\b\", test_string)\n",
    "print(test_string)\n",
    "print(result)"
   ]
  },
  {
   "cell_type": "markdown",
   "metadata": {},
   "source": [
    "### Filter \"words\" consisting only of letters"
   ]
  },
  {
   "cell_type": "code",
   "execution_count": null,
   "metadata": {},
   "outputs": [],
   "source": [
    "result = re.findall(r\"\\b[A-Za-zÄÖÜäöü]+\\b\", test_string)\n",
    "print(test_string)\n",
    "print(result)"
   ]
  },
  {
   "cell_type": "markdown",
   "metadata": {},
   "source": [
    "### Filter \"words\" with a minimum length"
   ]
  },
  {
   "cell_type": "code",
   "execution_count": 14,
   "metadata": {},
   "outputs": [
    {
     "name": "stdout",
     "output_type": "stream",
     "text": [
      "1244 Das ist EIN T42dst mit regexxxxxxxxxxxxxx 1234567\n",
      "['1244', 'T42dst', 'regexxxxxxxxxxxxxx', '1234567']\n"
     ]
    }
   ],
   "source": [
    "result = re.findall(r\"\\w{4,}\", test_string)\n",
    "print(test_string)\n",
    "print(result)"
   ]
  },
  {
   "cell_type": "markdown",
   "metadata": {},
   "source": [
    "### Filter \"words\" with a minimum and maximum length"
   ]
  },
  {
   "cell_type": "code",
   "execution_count": 17,
   "metadata": {},
   "outputs": [
    {
     "name": "stdout",
     "output_type": "stream",
     "text": [
      "1244 Das ist EIN T42dst mit regexxxxxxxxxxxxxx 1234567\n",
      "['1244', 'T42dst']\n"
     ]
    }
   ],
   "source": [
    "result = re.findall(r\"\\b\\w{4,6}\\b\", test_string)\n",
    "print(test_string)\n",
    "print(result)"
   ]
  }
 ],
 "metadata": {
  "kernelspec": {
   "display_name": "Python 3",
   "language": "python",
   "name": "python3"
  },
  "language_info": {
   "codemirror_mode": {
    "name": "ipython",
    "version": 3
   },
   "file_extension": ".py",
   "mimetype": "text/x-python",
   "name": "python",
   "nbconvert_exporter": "python",
   "pygments_lexer": "ipython3",
   "version": "3.7.4"
  }
 },
 "nbformat": 4,
 "nbformat_minor": 4
}
