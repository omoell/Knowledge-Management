{
 "cells": [
  {
   "cell_type": "markdown",
   "metadata": {},
   "source": [
    "# Classifications"
   ]
  },
  {
   "cell_type": "code",
   "execution_count": 1,
   "metadata": {},
   "outputs": [],
   "source": [
    "import numpy as np\n",
    "import pandas as pd\n",
    "import seaborn as sns\n",
    "import matplotlib.pyplot as plt\n",
    "%matplotlib inline\n",
    "\n",
    "from sklearn.metrics import confusion_matrix"
   ]
  },
  {
   "cell_type": "code",
   "execution_count": 22,
   "metadata": {},
   "outputs": [],
   "source": [
    "y_true = np.random.randint(2, size=40)\n",
    "y_hat = np.random.randint(2, size=40)"
   ]
  },
  {
   "cell_type": "code",
   "execution_count": 23,
   "metadata": {},
   "outputs": [],
   "source": [
    "matrix = confusion_matrix(y_true, y_hat)\n",
    "labels = np.array([['True Positive', 'False Negative'], ['False Positive', 'True Negative']])"
   ]
  },
  {
   "cell_type": "code",
   "execution_count": 24,
   "metadata": {},
   "outputs": [
    {
     "data": {
      "image/png": "[encoded data removed]",
      "text/plain": [
       "<Figure size 1080x360 with 4 Axes>"
      ]
     },
     "metadata": {
      "needs_background": "light"
     },
     "output_type": "display_data"
    }
   ],
   "source": [
    "fig = plt.figure(figsize=(15,5))\n",
    "ax0 = fig.add_subplot(121)\n",
    "ax1 = fig.add_subplot(122)\n",
    "\n",
    "sns.heatmap(matrix, annot=True, cmap=plt.cm.Blues, ax=ax0)\n",
    "sns.heatmap(matrix, annot=labels, annot_kws={'fontsize': 14}, cmap=plt.cm.Blues, fmt='', ax=ax1);"
   ]
  },
  {
   "cell_type": "code",
   "execution_count": 25,
   "metadata": {},
   "outputs": [
    {
     "name": "stdout",
     "output_type": "stream",
     "text": [
      "Value\tPrecision\tRecall\tF1-Score\n",
      "0\t0.59\t\t0.57\t0.58\n",
      "1\t0.41\t\t0.53\t0.46\n"
     ]
    }
   ],
   "source": [
    "prec_0 = matrix[0,0]/(matrix[0,0]+matrix[1,0])\n",
    "recall_0 = matrix[0,0]/(matrix[0,0]+matrix[0,1])\n",
    "f1_score_0 = 2*(prec_0 * recall_0)/(prec_0 + recall_0)\n",
    "\n",
    "prec_1 = matrix[1,0]/(matrix[1,0]+matrix[0,0])\n",
    "recall_1 = matrix[1,0]/(matrix[1,0]+matrix[1,1])\n",
    "f1_score_1 = 2*(prec_1 * recall_1)/(prec_1 + recall_1)\n",
    "\n",
    "print(f'Value\\tPrecision\\tRecall\\tF1-Score')\n",
    "print(f'0\\t{prec_0:.2f}\\t\\t{recall_0:.2f}\\t{f1_score_0:.2f}')\n",
    "print(f'1\\t{prec_1:.2f}\\t\\t{recall_1:.2f}\\t{f1_score_1:.2f}')"
   ]
  },
  {
   "cell_type": "markdown",
   "metadata": {},
   "source": [
    "## Metrics for evaluation"
   ]
  },
  {
   "cell_type": "markdown",
   "metadata": {},
   "source": [
    "### Precision and Recall\n",
    "\n",
    "$ Precision = \\frac{TP}{TP+FP} $\n",
    "\n",
    "$ Recall = \\frac{TP}{TP+FN} $\n",
    "\n",
    "$ Accuracy\\hspace{0.5cm}(F1-Score) = 2\\frac{prc*rec}{prc+rec} $"
   ]
  },
  {
   "cell_type": "markdown",
   "metadata": {},
   "source": [
    "### Log loss"
   ]
  },
  {
   "cell_type": "code",
   "execution_count": null,
   "metadata": {},
   "outputs": [],
   "source": []
  }
 ],
 "metadata": {
  "kernelspec": {
   "display_name": "data_science",
   "language": "python",
   "name": "data_science"
  },
  "language_info": {
   "codemirror_mode": {
    "name": "ipython",
    "version": 3
   },
   "file_extension": ".py",
   "mimetype": "text/x-python",
   "name": "python",
   "nbconvert_exporter": "python",
   "pygments_lexer": "ipython3",
   "version": "3.7.5"
  }
 },
 "nbformat": 4,
 "nbformat_minor": 4
}
