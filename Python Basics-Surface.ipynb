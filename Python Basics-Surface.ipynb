{
 "cells": [
  {
   "cell_type": "markdown",
   "metadata": {},
   "source": [
    "Python Basics"
   ]
  },
  {
   "cell_type": "markdown",
   "metadata": {},
   "source": [
    "In this Notebook I am collecting various basics that I discover during my learning process in Process. It helps me to efficiently lookup syntaxes I have previously used.  \n",
    "It might serve any other newcomer to Python as well.  \n",
    "\n",
    "To find collections of interesting Notebooks on various topics, search google for \"Jupyter Notebook Data Visualization Python\"  \n",
    "\n",
    "One example: https://github.com/jupyter/jupyter/wiki/A-gallery-of-interesting-Jupyter-Notebooks"
   ]
  },
  {
   "cell_type": "code",
   "execution_count": 2,
   "metadata": {},
   "outputs": [],
   "source": [
    "import pandas as pd\n",
    "from collections import defaultdict"
   ]
  },
  {
   "cell_type": "markdown",
   "metadata": {},
   "source": [
    "# Markdowns"
   ]
  },
  {
   "cell_type": "markdown",
   "metadata": {},
   "source": [
    "IBM Cheatsheet: __[click here](https://www.ibm.com/support/knowledgecenter/en/SSGNPV_1.1.3/dsx/markd-jupyter.html)__\n",
    "\n",
    "GitHub Cheatsheet: __[click here](https://github.com/adam-p/markdown-here/wiki/Markdown-Cheatsheet)__"
   ]
  },
  {
   "cell_type": "markdown",
   "metadata": {},
   "source": [
    "# Types"
   ]
  },
  {
   "cell_type": "markdown",
   "metadata": {},
   "source": [
    "## General"
   ]
  },
  {
   "cell_type": "markdown",
   "metadata": {},
   "source": [
    "How to identify the type of a variable"
   ]
  },
  {
   "cell_type": "code",
   "execution_count": 8,
   "metadata": {},
   "outputs": [
    {
     "name": "stdout",
     "output_type": "stream",
     "text": [
      "<class 'str'>\n",
      "<class 'int'>\n",
      "<class 'str'>\n"
     ]
    }
   ],
   "source": [
    "test = \"Das ist ein Test\"\n",
    "test2 = 1234\n",
    "test3 = \"1234\"\n",
    "\n",
    "print(type(test))\n",
    "print(type(test2))\n",
    "print(type(test3))"
   ]
  },
  {
   "cell_type": "markdown",
   "metadata": {},
   "source": [
    "## Using Types in if statements"
   ]
  },
  {
   "cell_type": "code",
   "execution_count": 9,
   "metadata": {},
   "outputs": [
    {
     "name": "stdout",
     "output_type": "stream",
     "text": [
      "\"Das ist ein Test\" is a string\n",
      "1234 is an int\n"
     ]
    }
   ],
   "source": [
    "if isinstance(test, str):\n",
    "    print(\"\\\"\" + test + \"\\\"\" + \" is a string\")\n",
    "else:\n",
    "    print(\"\\\"\" + test + \"\\\"\" + \" is not a string\")\n",
    "        \n",
    "if isinstance(test2, int):\n",
    "    print(str(test2) + \" is an int\")\n",
    "else:\n",
    "    print(str(test2) + \" is not an int\")"
   ]
  },
  {
   "cell_type": "markdown",
   "metadata": {},
   "source": [
    "## "
   ]
  },
  {
   "cell_type": "markdown",
   "metadata": {},
   "source": [
    "## Strings"
   ]
  },
  {
   "cell_type": "markdown",
   "metadata": {},
   "source": [
    "### Printing numbers and adjusting the # of decimals"
   ]
  },
  {
   "cell_type": "code",
   "execution_count": 10,
   "metadata": {},
   "outputs": [
    {
     "name": "stdout",
     "output_type": "stream",
     "text": [
      "12.24\n"
     ]
    }
   ],
   "source": [
    "print(\"{:.2f}\".format(12.2423))"
   ]
  },
  {
   "cell_type": "markdown",
   "metadata": {},
   "source": [
    "### Escape characters and adding \"\\\" in string"
   ]
  },
  {
   "cell_type": "code",
   "execution_count": 20,
   "metadata": {},
   "outputs": [
    {
     "name": "stdout",
     "output_type": "stream",
     "text": [
      "Das ist ein\n",
      "Test\n"
     ]
    }
   ],
   "source": [
    "test = \"Das ist ein\\nTest\"\n",
    "\n",
    "print(test)"
   ]
  },
  {
   "cell_type": "code",
   "execution_count": 24,
   "metadata": {},
   "outputs": [
    {
     "name": "stdout",
     "output_type": "stream",
     "text": [
      "test2: Das ist ein \\ Test\n",
      "test3: Das ist ein \\ Test\n"
     ]
    }
   ],
   "source": [
    "test2 = \"Das ist ein \\\\ Test\"\n",
    "test3 = r\"Das ist ein \\ Test\"\n",
    "\n",
    "print(\"test2: \" + test2)\n",
    "print(\"test3: \" + test3)"
   ]
  },
  {
   "cell_type": "markdown",
   "metadata": {},
   "source": [
    "### Printing information left-/right-adjusted with specific column width"
   ]
  },
  {
   "cell_type": "code",
   "execution_count": 11,
   "metadata": {},
   "outputs": [
    {
     "name": "stdout",
     "output_type": "stream",
     "text": [
      "A    \t    3\t         5\n",
      "B    \t    4\t         5\n",
      "C    \t    5\t         5\n"
     ]
    }
   ],
   "source": [
    "example_str_adjust = pd.DataFrame({\"A\": [1,1,1,4,5], \"B\": [3,4,5,5,6], \"C\":[7,3,6,2,5]})\n",
    "\n",
    "cat_col = [\"A\", \"B\", \"C\"]\n",
    "\n",
    "for col in cat_col:\n",
    "    print(col.ljust(5), str(example_str_adjust[col].nunique()).rjust(5), str(example_str_adjust[col].count()).rjust(10), sep=\"\\t\")"
   ]
  },
  {
   "cell_type": "markdown",
   "metadata": {},
   "source": [
    "## Integers "
   ]
  },
  {
   "cell_type": "markdown",
   "metadata": {},
   "source": [
    "Divide and ensure result is integer format (cut-off decimals!!)"
   ]
  },
  {
   "cell_type": "code",
   "execution_count": 12,
   "metadata": {},
   "outputs": [
    {
     "data": {
      "text/plain": [
       "5"
      ]
     },
     "execution_count": 12,
     "metadata": {},
     "output_type": "execute_result"
    }
   ],
   "source": [
    "11//2"
   ]
  },
  {
   "cell_type": "markdown",
   "metadata": {},
   "source": [
    "# Objects"
   ]
  },
  {
   "cell_type": "markdown",
   "metadata": {},
   "source": [
    "## Lists"
   ]
  },
  {
   "cell_type": "markdown",
   "metadata": {},
   "source": [
    "### Add new items to list"
   ]
  },
  {
   "cell_type": "markdown",
   "metadata": {},
   "source": [
    "Append vs. Extend"
   ]
  },
  {
   "cell_type": "code",
   "execution_count": 36,
   "metadata": {},
   "outputs": [
    {
     "name": "stdout",
     "output_type": "stream",
     "text": [
      "Extended: [1, 2, 3, 4, 5, 6, 7], length: 7\n",
      "Appended: [1, 2, 3, 4, [5, 6, 7]], length: 5\n"
     ]
    }
   ],
   "source": [
    "example_list_extend = [1,2,3,4]\n",
    "example_list_append = example_list_extend[:] # Alternatively use = example_list_extend.copy()\n",
    "add_list = [5,6,7]\n",
    "example_list_extend.extend(add_list)\n",
    "example_list_append.append(add_list)\n",
    "\n",
    "print(\"Extended: \" + str(example_list_extend) + \", length: \" + str(len(example_list_extend)))\n",
    "print(\"Appended: \" + str(example_list_append) + \", length: \" + str(len(example_list_append)))"
   ]
  },
  {
   "cell_type": "markdown",
   "metadata": {},
   "source": [
    "### Filter List values"
   ]
  },
  {
   "cell_type": "code",
   "execution_count": 13,
   "metadata": {},
   "outputs": [
    {
     "data": {
      "text/plain": [
       "['Das', 'ist', 'ein', 'Test']"
      ]
     },
     "execution_count": 13,
     "metadata": {},
     "output_type": "execute_result"
    }
   ],
   "source": [
    "complete_list = [\"Das\", \"ist\", \"ein\", \"Test\"]\n",
    "complete_list"
   ]
  },
  {
   "cell_type": "markdown",
   "metadata": {},
   "source": [
    "#### Leave only specific items in the list"
   ]
  },
  {
   "cell_type": "code",
   "execution_count": 14,
   "metadata": {},
   "outputs": [
    {
     "data": {
      "text/plain": [
       "['Das', 'Test']"
      ]
     },
     "execution_count": 14,
     "metadata": {},
     "output_type": "execute_result"
    }
   ],
   "source": [
    "to_keep = [\"Das\", \"Test\"]\n",
    "filtered_list = list(filter(lambda x: x in to_keep, complete_list))\n",
    "filtered_list"
   ]
  },
  {
   "cell_type": "markdown",
   "metadata": {},
   "source": [
    "#### Filter every second item in the list"
   ]
  },
  {
   "cell_type": "code",
   "execution_count": 15,
   "metadata": {},
   "outputs": [
    {
     "data": {
      "text/plain": [
       "['Das', 'ein']"
      ]
     },
     "execution_count": 15,
     "metadata": {},
     "output_type": "execute_result"
    }
   ],
   "source": [
    "filtered_second_list = complete_list[::2]\n",
    "filtered_second_list"
   ]
  },
  {
   "cell_type": "markdown",
   "metadata": {},
   "source": [
    "### Change type of list items"
   ]
  },
  {
   "cell_type": "code",
   "execution_count": 2,
   "metadata": {},
   "outputs": [
    {
     "data": {
      "text/plain": [
       "['0', '1', '2', '3', '4']"
      ]
     },
     "execution_count": 2,
     "metadata": {},
     "output_type": "execute_result"
    }
   ],
   "source": [
    "int_list = list(map(str, range(5)))\n",
    "int_list"
   ]
  },
  {
   "cell_type": "markdown",
   "metadata": {},
   "source": [
    "## Dictionaries"
   ]
  },
  {
   "cell_type": "markdown",
   "metadata": {},
   "source": [
    "### Iterations"
   ]
  },
  {
   "cell_type": "code",
   "execution_count": 16,
   "metadata": {},
   "outputs": [],
   "source": [
    "dict = {\"A\": [1,2,3], \"B\": [4,5,6], \"C\": [7,8,9]}"
   ]
  },
  {
   "cell_type": "code",
   "execution_count": 17,
   "metadata": {},
   "outputs": [
    {
     "name": "stdout",
     "output_type": "stream",
     "text": [
      "A: [1, 2, 3]\n",
      "B: [4, 5, 6]\n",
      "C: [7, 8, 9]\n"
     ]
    }
   ],
   "source": [
    "for i, value in dict.items():\n",
    "    print(i + \": \" + str(value))"
   ]
  },
  {
   "cell_type": "markdown",
   "metadata": {},
   "source": [
    "### Defaultdict - Create Dictionary with for loop"
   ]
  },
  {
   "cell_type": "code",
   "execution_count": 3,
   "metadata": {},
   "outputs": [
    {
     "data": {
      "text/plain": [
       "dict_items([('yellow', [1, 3]), ('blue', [2, 4]), ('red', [1])])"
      ]
     },
     "execution_count": 3,
     "metadata": {},
     "output_type": "execute_result"
    }
   ],
   "source": [
    "s = [('yellow', 1), ('blue', 2), ('yellow', 3), ('blue', 4), ('red', 1)]\n",
    "d = defaultdict(list)\n",
    "for k, v in s:\n",
    "    d[k].append(v)\n",
    "    \n",
    "d.items()"
   ]
  },
  {
   "cell_type": "markdown",
   "metadata": {},
   "source": [
    "## Sets"
   ]
  },
  {
   "cell_type": "markdown",
   "metadata": {},
   "source": [
    "### Working with two Sets"
   ]
  },
  {
   "cell_type": "code",
   "execution_count": 39,
   "metadata": {},
   "outputs": [
    {
     "name": "stdout",
     "output_type": "stream",
     "text": [
      "Overlap: {'Back in Black', 'AC/DC'}\n",
      "Union: {'AC/DC', 'Back in Black', 'Thriller', 'The Dark Side of the Moon'}\n"
     ]
    }
   ],
   "source": [
    "album_set_1 = {\"AC/DC\",\"Back in Black\",\"Thriller\"}\n",
    "album_set_2 = {\"AC/DC\",\"Back in Black\",\"The Dark Side of the Moon\"}\n",
    "\n",
    "album_set_overlap = album_set_1 & album_set_2\n",
    "album_set_union = album_set_1.union(album_set_2)\n",
    "\n",
    "print(\"Overlap: \" + str(album_set_overlap))\n",
    "print(\"Union: \" + str(album_set_union))"
   ]
  },
  {
   "cell_type": "markdown",
   "metadata": {},
   "source": [
    "# Jupyter Magic Commands"
   ]
  },
  {
   "cell_type": "code",
   "execution_count": 18,
   "metadata": {},
   "outputs": [
    {
     "name": "stderr",
     "output_type": "stream",
     "text": [
      "ERROR:root:File `'get_missing.py'` not found.\n"
     ]
    }
   ],
   "source": [
    "%run get_missing.py\n",
    "\n",
    "## alternatively write %load get_missing.py to show also quote here"
   ]
  },
  {
   "cell_type": "code",
   "execution_count": 19,
   "metadata": {},
   "outputs": [
    {
     "name": "stdout",
     "output_type": "stream",
     "text": [
      "No variables match your requested type.\n"
     ]
    }
   ],
   "source": [
    "%whos # jupyter built-in magic commands start with %"
   ]
  },
  {
   "cell_type": "markdown",
   "metadata": {},
   "source": [
    "# Read/Write Files"
   ]
  },
  {
   "cell_type": "code",
   "execution_count": 19,
   "metadata": {},
   "outputs": [],
   "source": [
    "with open(\"Example1.txt\", \"w\") as writefile: # \"w\" = write mode\n",
    "    writefile.write(\"This is a test.\\n\")\n",
    "    writefile.write(\"This is the second line of the test.\\n\")\n",
    "    \n",
    "with open(\"Example1.txt\", \"a\") as writefile: # \"a\" = append mode\n",
    "    writefile.write(\"This is the third line of the test.\")"
   ]
  },
  {
   "cell_type": "code",
   "execution_count": 20,
   "metadata": {},
   "outputs": [
    {
     "name": "stdout",
     "output_type": "stream",
     "text": [
      "This is a test.\n",
      "\n",
      "This is the second line of the test.\n",
      "\n",
      "This is the third line of the test.\n"
     ]
    }
   ],
   "source": [
    "with open(\"Example1.txt\", \"r\") as readfile:\n",
    "    for line in readfile:\n",
    "        print(line)"
   ]
  },
  {
   "cell_type": "code",
   "execution_count": null,
   "metadata": {},
   "outputs": [],
   "source": []
  }
 ],
 "metadata": {
  "kernelspec": {
   "display_name": "data_science",
   "language": "python",
   "name": "data_science"
  },
  "language_info": {
   "codemirror_mode": {
    "name": "ipython",
    "version": 3
   },
   "file_extension": ".py",
   "mimetype": "text/x-python",
   "name": "python",
   "nbconvert_exporter": "python",
   "pygments_lexer": "ipython3",
   "version": "3.7.5"
  },
  "toc-autonumbering": true
 },
 "nbformat": 4,
 "nbformat_minor": 4
}
