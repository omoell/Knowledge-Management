{
 "nbformat": 4,
 "nbformat_minor": 2,
 "metadata": {
  "language_info": {
   "name": "python",
   "codemirror_mode": {
    "name": "ipython",
    "version": 3
   },
   "version": "3.7.5"
  },
  "orig_nbformat": 2,
  "file_extension": ".py",
  "mimetype": "text/x-python",
  "name": "python",
  "npconvert_exporter": "python",
  "pygments_lexer": "ipython3",
  "version": 3
 },
 "cells": [
  {
   "cell_type": "markdown",
   "execution_count": null,
   "metadata": {},
   "outputs": [],
   "source": [
    "# Learnings for linear regression"
   ]
  },
  {
   "cell_type": "code",
   "execution_count": 26,
   "metadata": {},
   "outputs": [],
   "source": [
    "import pandas as pd\n",
    "from sklearn.linear_model import LinearRegression"
   ]
  },
  {
   "cell_type": "markdown",
   "execution_count": null,
   "metadata": {},
   "outputs": [],
   "source": [
    "## Machine Learning with Python - Coursera"
   ]
  },
  {
   "cell_type": "code",
   "execution_count": 7,
   "metadata": {},
   "outputs": [],
   "source": [
    "example_data = pd.DataFrame({'Enginesize': [2.0,2.4,1.5,3.5,3.5,3.5,3.5,3.7,3.7], 'CO2 Emissions': [196,221,136,255,244,230,232,255,267]})"
   ]
  },
  {
   "cell_type": "markdown",
   "execution_count": 5,
   "metadata": {},
   "outputs": [
    {
     "ename": "SyntaxError",
     "evalue": "invalid syntax (<ipython-input-5-d22c2fa7bf24>, line 1)",
     "output_type": "error",
     "traceback": [
      "\u001b[0;36m  File \u001b[0;32m\"<ipython-input-5-d22c2fa7bf24>\"\u001b[0;36m, line \u001b[0;32m1\u001b[0m\n\u001b[0;31m    $'\\frac{1}{n} sum_{i=1}^n$\u001b[0m\n\u001b[0m    ^\u001b[0m\n\u001b[0;31mSyntaxError\u001b[0m\u001b[0;31m:\u001b[0m invalid syntax\n"
     ]
    }
   ],
   "source": [
    "Mean Squared Error:\n",
    "Sum of squares of the distance from the predicted value $\\widehat{y}$ to the true value $y$.\n",
    "\n",
    "$\\widehat{y}=\\theta_0+\\theta_1x_1$\n",
    "\n",
    "$MSE=\\frac{1}{n} \\sum_{i=1}^n \\left( y_i - \\widehat{y_i} \\right)^2$\n",
    "\n",
    "<br>How to find best values for $\\theta_0$ and $\\theta_1$?\n",
    "Two options available:  \n",
    "1) Mathematic approach  (see simple linear regression)  \n",
    "2) Optimization approach  (see multiple linear regression)  \n",
    "\n",
    "Optimization used best for multiple linear regression with large datasets, as calculations required lower than for matrix calculations of mathematical approach\n"
   ]
  },
  {
   "cell_type": "markdown",
   "execution_count": null,
   "metadata": {},
   "outputs": [],
   "source": [
    "### Mathematic approach\n",
    "\n",
    "Given the condition, that we have a simple linear regression, i.e. only two paramaters.  \n",
    "Calculations for both parameters:\n",
    "\n",
    "$\\theta_1=\\frac{\\sum_{i=1}^s(x_i-\\overline{x})(y_i-\\overline{y})}{\\sum_{i=1}^s(x_i-\\overline{x})^2} $\n",
    "\n",
    "$ \\theta_0=\\overline{y}-\\theta_1\\overline{x}$"
   ]
  },
  {
   "cell_type": "code",
   "execution_count": 45,
   "metadata": {},
   "outputs": [
    {
     "data": {
      "text/plain": "27.299999999999997"
     },
     "execution_count": 45,
     "metadata": {},
     "output_type": "execute_result"
    }
   ],
   "source": [
    "sum(x)"
   ]
  },
  {
   "cell_type": "code",
   "execution_count": 20,
   "metadata": {},
   "outputs": [],
   "source": [
    "x = example_data['Enginesize']\n",
    "y = example_data['CO2 Emissions']\n",
    "\n",
    "# Calculate means of x and y\n",
    "mean_x = sum(x) / len(x)\n",
    "mean_y = sum(y) / len(y)"
   ]
  },
  {
   "cell_type": "code",
   "execution_count": 42,
   "metadata": {},
   "outputs": [
    {
     "name": "stdout",
     "output_type": "stream",
     "text": "Coefficient (theta_1): 43.98446833930704\n"
    }
   ],
   "source": [
    "# Calculate fraction for theta_1\n",
    "numerator = sum([(x[i]-mean_x)*(y[i]-mean_y) for i in range(len(x))])\n",
    "denominator = sum([(x[i]-mean_x)**2 for i in range(len(x))])\n",
    "\n",
    "theta_1 = numerator / denominator\n",
    "print(f'Coefficient (theta_1): {theta_1}')"
   ]
  },
  {
   "cell_type": "code",
   "execution_count": 43,
   "metadata": {},
   "outputs": [
    {
     "name": "stdout",
     "output_type": "stream",
     "text": "Intercept (theta_0): 92.80266825965754\n"
    }
   ],
   "source": [
    "# Input theta_1 to calculate theta_0\n",
    "theta_0 = mean_y - (theta_1*mean_x)\n",
    "print(f'Intercept (theta_0): {theta_0}')"
   ]
  },
  {
   "cell_type": "markdown",
   "execution_count": null,
   "metadata": {},
   "outputs": [],
   "source": [
    "$$ \\widehat{y} = 92.80 + 43.98x_1$$"
   ]
  },
  {
   "cell_type": "markdown",
   "execution_count": 35,
   "metadata": {},
   "outputs": [],
   "source": [
    "### Validation of results with `sklearn.linear_model.LinearRegression`"
   ]
  },
  {
   "cell_type": "code",
   "execution_count": 33,
   "metadata": {},
   "outputs": [
    {
     "name": "stdout",
     "output_type": "stream",
     "text": "Coefficient: 43.984468339307035 \nIntercept: 92.80266825965757\n"
    }
   ],
   "source": [
    "# Validation\n",
    "lr = LinearRegression()\n",
    "lr.fit(pd.DataFrame(x),y)\n",
    "print(f'Coefficient: {lr.coef_[0]} \\nIntercept: {lr.intercept_}')"
   ]
  },
  {
   "cell_type": "markdown",
   "execution_count": null,
   "metadata": {},
   "outputs": [],
   "source": [
    "## Evaluation Metrics in Regression Models\n",
    "\n",
    "**Mean Absolute Error:**  \n",
    "<br>$ MAE=\\frac{1}{n}\\sum_{j=1}^n|y_j-\\widehat{y_j}| $\n",
    "\n",
    "\n",
    "<br>**Mean Squared Error:**  \n",
    "MSE is more popular than MAE, as it is more geared towards large errors.  \n",
    "<br>$ MSE = \\frac{1}{n}\\sum_{i=1}^n(y_j-\\widehat{y_j})^2 $\n",
    "\n",
    "\n",
    "\n",
    "<br>**Root Mean Squared Error:**  \n",
    "RMSE is one of the most popular evaluation metric, as it is interpretable in the same units as the response vector or y units.  \n",
    "<br>$ RMSE = \\sqrt{\\frac{1}{n}\\sum_{i=1}^n(y_j-\\widehat{y_j})^2} $\n",
    "\n",
    "\n",
    "\n",
    "<br>**Relative Absolute Error:**  \n",
    "<br>$ RAE=\\frac{\\sum_{j=1}^n|y_j-\\widehat{y_j}|}{\\sum_{j=1}^n|y_j-\\overline{y}|} $\n",
    "\n",
    "\n",
    "<br>**Relative Squared Error:**  \n",
    "RSE is widely adopted by Data Science community, due to being used for calculating $R^2$.  \n",
    "<br>$ RAE=\\frac{\\sum_{j=1}^n(y_j-\\widehat{y_j})^2}{\\sum_{j=1}^n(y_j-\\overline{y})^2} $\n",
    "\n",
    "\n",
    "<br>**$R^2:$**  \n",
    "<br>$ R^2=1-RSE $\n",
    "\n"
   ]
  },
  {
   "cell_type": "code",
   "execution_count": null,
   "metadata": {},
   "outputs": [],
   "source": []
  },
  {
   "cell_type": "markdown",
   "execution_count": null,
   "metadata": {},
   "outputs": [],
   "source": [
    "## Multiple Linear Regression\n",
    "\n",
    "Multiple Linear Regression normall used for two differente purposes:\n",
    " - Understand impact of independent variables on prediction\n",
    " - Understand and predict impact of change on predictor (dependent variable), if any variable (independent variable) changes"
   ]
  },
  {
   "cell_type": "code",
   "execution_count": null,
   "metadata": {},
   "outputs": [],
   "source": [
    "example_mlr = pd.DataFrame({\n",
    "                                                    'Enginesize': [2.0,2.4,1.5,3.5,3.5,3.5,3.5,3.7,3.7],\n",
    "                                                    'Cylinders': [4,4,4,6,6,6,6,6,6],\n",
    "                                                    'Fuelconsumption_Comb': [8.5,9.6,5.9,11.1,10.6,10.0,10.1,11.1,11.6],\n",
    "                                                    'CO2 Emissions': [196,221,136,255,244,230,232,255,267]\n",
    "                                                    })\n"
   ]
  },
  {
   "cell_type": "markdown",
   "execution_count": null,
   "metadata": {},
   "outputs": [],
   "source": [
    "Target function:\n",
    "\n",
    "$\\widehat{y}=\\theta_0+\\theta_1x_1+\\theta_2x_2+...+\\theta_nx_n$\n",
    "\n",
    "Function can be written as:\n",
    "$ \\widehat{y}=\\theta^TX $\n",
    "\n",
    "$ \\theta^T=[\\theta_0,\\theta_1,\\theta_2,...] $ &nbsp;&nbsp;&nbsp;&nbsp;&nbsp;&nbsp; $ X=\\left(\\begin{array}{c}1\\\\x_1\\\\x_2\\\\...\\\\\\end{array}\\right) $"
   ]
  },
  {
   "cell_type": "code",
   "execution_count": null,
   "metadata": {},
   "outputs": [],
   "source": []
  },
  {
   "cell_type": "code",
   "execution_count": null,
   "metadata": {},
   "outputs": [],
   "source": []
  }
 ]
}